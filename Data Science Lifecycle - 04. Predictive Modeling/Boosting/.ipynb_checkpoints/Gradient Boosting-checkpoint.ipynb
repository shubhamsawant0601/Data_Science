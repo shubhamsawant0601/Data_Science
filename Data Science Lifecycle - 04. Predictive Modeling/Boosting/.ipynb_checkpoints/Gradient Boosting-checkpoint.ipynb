{
 "cells": [
  {
   "cell_type": "markdown",
   "id": "ef5196e0",
   "metadata": {},
   "source": [
    "# Gradient Boosts\n",
    "\n",
    "Important parameters given as input are -\n",
    " 1. Features, Target\n",
    " 2. Loss Function (It should be differentiable)\n",
    " 3. Number of trees\n",
    " \n",
    "It's a optimization technique works on the idea of optimizing the loss function. As optimizing loss functions involves steps which causes it to be differentiated, the loss function should be differentiable. \n",
    "\n",
    "Loss functions for regression - \n",
    "1. Mean squared error\n",
    "2. Root mean squared error\n",
    "3. Mean bias error\n",
    "\n",
    "Loss functions for classification- \n"
   ]
  },
  {
   "cell_type": "markdown",
   "id": "dc44aad5",
   "metadata": {},
   "source": [
    "## Step 1. \n",
    "- Base model that predicts constant value, let's assume it as mean of all target data i.e. 500k\n",
    "\n",
    "- Update this value in Base Prediction column.\n",
    "\n",
    "- Formula for Base Model is given as- \n",
    "\n",
    "$F_0$(x) = $\\frac{argmin}{\\gamma}$\t$\\sum_{i=0}^{n}$L($y_i$-$\\gamma$)\n",
    "\n",
    "where \n",
    "- $F_0$(x) means output of base model which is constant value.\n",
    "- $y_i$ is the observed value.\n",
    "- $\\gamma$ is the Predicted value.\n",
    "- L is loss function which takes observed and predicted values.\n",
    "\n",
    "So basically this equation means that to get the constant value prediction from loss function we need to minimise the summation of loss function so we differentiate this function w.r.t $y_i$ and equate it to 0 thn we get theconstant value for $\\gamma$ such that we get minimum loss.\n",
    "\n",
    " 0 = $\\frac{\\partial}{\\partial y_i}(\\frac{1}{2}(400- \\hat{y})^2+ \\frac{1}{2}(500 - \\hat{y})^2 + \\frac{1}{2}(600 - \\hat{y})^2)$\n",
    " \n",
    "$\\hat{y}$ = 500\n",
    "\n",
    "- Update this value in Prediction column.\n",
    "\n"
   ]
  },
  {
   "attachments": {
    "valuepredi.png": {
     "image/png": "[encoded data removed]"
    }
   },
   "cell_type": "markdown",
   "id": "41b5a653",
   "metadata": {},
   "source": [
    "![valuepredi.png](attachment:valuepredi.png)"
   ]
  },
  {
   "cell_type": "markdown",
   "id": "e40a4393",
   "metadata": {},
   "source": [
    "## Step 2. \n",
    "\n",
    "- Pseudo Residuals are found by the following formula.\n",
    "\n",
    "$r_i$ = - ($\\frac{\\partial L(y_i,  F(X_i))}{\\partial F(x_i)}$)\n",
    "\n",
    "where, \n",
    "  - $F(x_i)$ is the function that gives prediction $\\hat{y}$\n",
    "  - $L(y_i, F(x_i))$ is the loss function which is $\\frac{1}{2}(y_i - \\hat{y})^2$  in our example. \n",
    "  \n",
    "So Differentiating this $L(y_i,  F(X_i))$  w.r.t $F(x_i)$ basically means that differentiating $(\\frac{1}{2}(y-\\hat{y})^2)$ w.r.t $\\hat{y}$\n",
    "\n",
    "For first entry we get.\n",
    " \n",
    " = - $\\frac{\\partial(\\frac{1}{2}(y-\\hat{y})^2)}{\\partial \\hat{y}}$\n",
    " \n",
    " = -$\\frac{2}{2}(y-\\hat{y})(-1)$\n",
    " \n",
    " =  $(y-\\hat{y})$\n",
    " \n",
    " = (400-500)\n",
    " \n",
    " = -50\n",
    "\n",
    "- Similarly we get the residuals for every entry.\n",
    "\n",
    "- Update this Residual values in Residual-1 column.\n",
    "\n",
    "- This Residuals are basically the errors given by base model, and this errors are the comparison between Target value and predicted value measured by various loss functions as mentioned above. "
   ]
  },
  {
   "attachments": {
    "residuals-2.png": {
     "image/png": "[encoded data removed]"
    }
   },
   "cell_type": "markdown",
   "id": "6d22dc25",
   "metadata": {},
   "source": [
    "![residuals-2.png](attachment:residuals-2.png)"
   ]
  },
  {
   "cell_type": "markdown",
   "id": "4198f449",
   "metadata": {},
   "source": [
    "## Step 3\n",
    "\n",
    "Now we take target i.e. dependent feature as Residual and not the price. Hence in gradient boost we consider only Residuals.\n",
    "\n",
    "Hence we fit the Decision tree **Model-1** which is denoted by $h_m(x)$ which fits the inputs $(x_i, r_i)$\n",
    "\n",
    " $h_m(x)$ fits $(x_i, r_i)$\n",
    " \n",
    " where\n",
    " - $h_m(x)$ is the Decision tree \n",
    " \n",
    " - $x_i$ are Independent features as No. of Bedrooms, Sq.feet\n",
    " \n",
    " - $r_i$ is the Dependent feature as Residuals\n",
    "\n",
    "The output prediction of this Model-1 is also a Residual as it is fitted on Residuals as Target."
   ]
  },
  {
   "cell_type": "markdown",
   "id": "22063c84",
   "metadata": {},
   "source": [
    "## Step 4\n",
    "\n"
   ]
  },
  {
   "cell_type": "code",
   "execution_count": null,
   "id": "db5432c6",
   "metadata": {},
   "outputs": [],
   "source": []
  },
  {
   "cell_type": "code",
   "execution_count": null,
   "id": "2e7fc943",
   "metadata": {},
   "outputs": [],
   "source": []
  },
  {
   "cell_type": "code",
   "execution_count": null,
   "id": "6c2d1e11",
   "metadata": {},
   "outputs": [],
   "source": []
  },
  {
   "cell_type": "code",
   "execution_count": null,
   "id": "be7d65c6",
   "metadata": {},
   "outputs": [],
   "source": []
  },
  {
   "cell_type": "code",
   "execution_count": null,
   "id": "883fb2fb",
   "metadata": {},
   "outputs": [],
   "source": []
  },
  {
   "cell_type": "code",
   "execution_count": null,
   "id": "5408e6f5",
   "metadata": {},
   "outputs": [],
   "source": []
  },
  {
   "cell_type": "code",
   "execution_count": null,
   "id": "6f5adfb3",
   "metadata": {},
   "outputs": [],
   "source": []
  },
  {
   "cell_type": "markdown",
   "id": "1f2891c2",
   "metadata": {},
   "source": [
    "# Implementation of Gradient boost"
   ]
  },
  {
   "cell_type": "code",
   "execution_count": 62,
   "id": "214f1167",
   "metadata": {},
   "outputs": [],
   "source": [
    "import numpy as np\n",
    "import pandas as pd\n",
    "import seaborn as sns\n",
    "import matplotlib as plt\n",
    "from sklearn.model_selection import train_test_split\n",
    "from sklearn.ensemble import GradientBoostingClassifier\n"
   ]
  },
  {
   "cell_type": "code",
   "execution_count": 63,
   "id": "706a9270",
   "metadata": {},
   "outputs": [
    {
     "data": {
      "text/html": [
       "<div>\n",
       "<style scoped>\n",
       "    .dataframe tbody tr th:only-of-type {\n",
       "        vertical-align: middle;\n",
       "    }\n",
       "\n",
       "    .dataframe tbody tr th {\n",
       "        vertical-align: top;\n",
       "    }\n",
       "\n",
       "    .dataframe thead th {\n",
       "        text-align: right;\n",
       "    }\n",
       "</style>\n",
       "<table border=\"1\" class=\"dataframe\">\n",
       "  <thead>\n",
       "    <tr style=\"text-align: right;\">\n",
       "      <th></th>\n",
       "      <th>PassengerId</th>\n",
       "      <th>Survived</th>\n",
       "      <th>Pclass</th>\n",
       "      <th>Name</th>\n",
       "      <th>Sex</th>\n",
       "      <th>Age</th>\n",
       "      <th>SibSp</th>\n",
       "      <th>Parch</th>\n",
       "      <th>Ticket</th>\n",
       "      <th>Fare</th>\n",
       "      <th>Cabin</th>\n",
       "      <th>Embarked</th>\n",
       "    </tr>\n",
       "  </thead>\n",
       "  <tbody>\n",
       "    <tr>\n",
       "      <th>0</th>\n",
       "      <td>1</td>\n",
       "      <td>0</td>\n",
       "      <td>3</td>\n",
       "      <td>Braund, Mr. Owen Harris</td>\n",
       "      <td>male</td>\n",
       "      <td>22.0</td>\n",
       "      <td>1</td>\n",
       "      <td>0</td>\n",
       "      <td>A/5 21171</td>\n",
       "      <td>7.2500</td>\n",
       "      <td>NaN</td>\n",
       "      <td>S</td>\n",
       "    </tr>\n",
       "    <tr>\n",
       "      <th>1</th>\n",
       "      <td>2</td>\n",
       "      <td>1</td>\n",
       "      <td>1</td>\n",
       "      <td>Cumings, Mrs. John Bradley (Florence Briggs Th...</td>\n",
       "      <td>female</td>\n",
       "      <td>38.0</td>\n",
       "      <td>1</td>\n",
       "      <td>0</td>\n",
       "      <td>PC 17599</td>\n",
       "      <td>71.2833</td>\n",
       "      <td>C85</td>\n",
       "      <td>C</td>\n",
       "    </tr>\n",
       "    <tr>\n",
       "      <th>2</th>\n",
       "      <td>3</td>\n",
       "      <td>1</td>\n",
       "      <td>3</td>\n",
       "      <td>Heikkinen, Miss. Laina</td>\n",
       "      <td>female</td>\n",
       "      <td>26.0</td>\n",
       "      <td>0</td>\n",
       "      <td>0</td>\n",
       "      <td>STON/O2. 3101282</td>\n",
       "      <td>7.9250</td>\n",
       "      <td>NaN</td>\n",
       "      <td>S</td>\n",
       "    </tr>\n",
       "    <tr>\n",
       "      <th>3</th>\n",
       "      <td>4</td>\n",
       "      <td>1</td>\n",
       "      <td>1</td>\n",
       "      <td>Futrelle, Mrs. Jacques Heath (Lily May Peel)</td>\n",
       "      <td>female</td>\n",
       "      <td>35.0</td>\n",
       "      <td>1</td>\n",
       "      <td>0</td>\n",
       "      <td>113803</td>\n",
       "      <td>53.1000</td>\n",
       "      <td>C123</td>\n",
       "      <td>S</td>\n",
       "    </tr>\n",
       "    <tr>\n",
       "      <th>4</th>\n",
       "      <td>5</td>\n",
       "      <td>0</td>\n",
       "      <td>3</td>\n",
       "      <td>Allen, Mr. William Henry</td>\n",
       "      <td>male</td>\n",
       "      <td>35.0</td>\n",
       "      <td>0</td>\n",
       "      <td>0</td>\n",
       "      <td>373450</td>\n",
       "      <td>8.0500</td>\n",
       "      <td>NaN</td>\n",
       "      <td>S</td>\n",
       "    </tr>\n",
       "  </tbody>\n",
       "</table>\n",
       "</div>"
      ],
      "text/plain": [
       "   PassengerId  Survived  Pclass  \\\n",
       "0            1         0       3   \n",
       "1            2         1       1   \n",
       "2            3         1       3   \n",
       "3            4         1       1   \n",
       "4            5         0       3   \n",
       "\n",
       "                                                Name     Sex   Age  SibSp  \\\n",
       "0                            Braund, Mr. Owen Harris    male  22.0      1   \n",
       "1  Cumings, Mrs. John Bradley (Florence Briggs Th...  female  38.0      1   \n",
       "2                             Heikkinen, Miss. Laina  female  26.0      0   \n",
       "3       Futrelle, Mrs. Jacques Heath (Lily May Peel)  female  35.0      1   \n",
       "4                           Allen, Mr. William Henry    male  35.0      0   \n",
       "\n",
       "   Parch            Ticket     Fare Cabin Embarked  \n",
       "0      0         A/5 21171   7.2500   NaN        S  \n",
       "1      0          PC 17599  71.2833   C85        C  \n",
       "2      0  STON/O2. 3101282   7.9250   NaN        S  \n",
       "3      0            113803  53.1000  C123        S  \n",
       "4      0            373450   8.0500   NaN        S  "
      ]
     },
     "execution_count": 63,
     "metadata": {},
     "output_type": "execute_result"
    }
   ],
   "source": [
    "data = pd.read_csv(\"titanic_train.csv\")\n",
    "data.head()"
   ]
  },
  {
   "cell_type": "markdown",
   "id": "14c6115a",
   "metadata": {},
   "source": [
    "# Preprocessing"
   ]
  },
  {
   "cell_type": "markdown",
   "id": "29c5ad9f",
   "metadata": {},
   "source": [
    "### We do not require the Name, Cabin, Ticket, PassengerId columns as they don't influence the survival."
   ]
  },
  {
   "cell_type": "code",
   "execution_count": 64,
   "id": "3c11f2fd",
   "metadata": {},
   "outputs": [],
   "source": [
    "data.drop([\"Name\", \"Cabin\", \"Ticket\", \"PassengerId\"], axis=1, inplace=True)"
   ]
  },
  {
   "cell_type": "markdown",
   "id": "18910f51",
   "metadata": {},
   "source": [
    "### Fill the NaN values of dataset"
   ]
  },
  {
   "cell_type": "code",
   "execution_count": 65,
   "id": "54585fae",
   "metadata": {},
   "outputs": [
    {
     "name": "stdout",
     "output_type": "stream",
     "text": [
      "<class 'pandas.core.frame.DataFrame'>\n",
      "RangeIndex: 891 entries, 0 to 890\n",
      "Data columns (total 8 columns):\n",
      " #   Column    Non-Null Count  Dtype  \n",
      "---  ------    --------------  -----  \n",
      " 0   Survived  891 non-null    int64  \n",
      " 1   Pclass    891 non-null    int64  \n",
      " 2   Sex       891 non-null    object \n",
      " 3   Age       714 non-null    float64\n",
      " 4   SibSp     891 non-null    int64  \n",
      " 5   Parch     891 non-null    int64  \n",
      " 6   Fare      891 non-null    float64\n",
      " 7   Embarked  889 non-null    object \n",
      "dtypes: float64(2), int64(4), object(2)\n",
      "memory usage: 55.8+ KB\n"
     ]
    }
   ],
   "source": [
    "data.info()"
   ]
  },
  {
   "cell_type": "markdown",
   "id": "67861fdd",
   "metadata": {},
   "source": [
    "#### We can see the Null values are present in \"Age\" and \"Embarked\" columns"
   ]
  },
  {
   "cell_type": "code",
   "execution_count": 66,
   "id": "5c79d475",
   "metadata": {},
   "outputs": [
    {
     "data": {
      "text/plain": [
       "<AxesSubplot:>"
      ]
     },
     "execution_count": 66,
     "metadata": {},
     "output_type": "execute_result"
    },
    {
     "data": {
      "image/png": "[encoded data removed]",
      "text/plain": [
       "<Figure size 432x288 with 2 Axes>"
      ]
     },
     "metadata": {
      "needs_background": "light"
     },
     "output_type": "display_data"
    }
   ],
   "source": [
    "sns.heatmap(data.isnull())"
   ]
  },
  {
   "cell_type": "code",
   "execution_count": 74,
   "id": "b307d916",
   "metadata": {},
   "outputs": [],
   "source": [
    "data[\"Age\"] = data[\"Age\"].fillna(data[\"Age\"].mean())\n",
    "# We can use interpolate function so that Null is filled with average of adjecent values\n",
    "\n",
    "data[\"Embarked\"] = data[\"Embarked\"].fillna(\"S\")"
   ]
  },
  {
   "cell_type": "code",
   "execution_count": 75,
   "id": "44a391cc",
   "metadata": {},
   "outputs": [
    {
     "data": {
      "text/plain": [
       "<AxesSubplot:>"
      ]
     },
     "execution_count": 75,
     "metadata": {},
     "output_type": "execute_result"
    },
    {
     "data": {
      "image/png": "[encoded data removed]",
      "text/plain": [
       "<Figure size 432x288 with 2 Axes>"
      ]
     },
     "metadata": {
      "needs_background": "light"
     },
     "output_type": "display_data"
    }
   ],
   "source": [
    "sns.heatmap(data.isnull())"
   ]
  },
  {
   "cell_type": "markdown",
   "id": "5ecea9f0",
   "metadata": {},
   "source": [
    "## Convert categorical values to numeric\n",
    "\n",
    "### We use OneHotEncoding for \"Sex\", \"Embarked\"  columns"
   ]
  },
  {
   "cell_type": "code",
   "execution_count": 76,
   "id": "90ad5e0c",
   "metadata": {},
   "outputs": [
    {
     "data": {
      "text/html": [
       "<div>\n",
       "<style scoped>\n",
       "    .dataframe tbody tr th:only-of-type {\n",
       "        vertical-align: middle;\n",
       "    }\n",
       "\n",
       "    .dataframe tbody tr th {\n",
       "        vertical-align: top;\n",
       "    }\n",
       "\n",
       "    .dataframe thead th {\n",
       "        text-align: right;\n",
       "    }\n",
       "</style>\n",
       "<table border=\"1\" class=\"dataframe\">\n",
       "  <thead>\n",
       "    <tr style=\"text-align: right;\">\n",
       "      <th></th>\n",
       "      <th>Survived</th>\n",
       "      <th>Pclass</th>\n",
       "      <th>Sex</th>\n",
       "      <th>Age</th>\n",
       "      <th>SibSp</th>\n",
       "      <th>Parch</th>\n",
       "      <th>Fare</th>\n",
       "      <th>Embarked</th>\n",
       "      <th>female</th>\n",
       "      <th>male</th>\n",
       "      <th>C</th>\n",
       "      <th>Q</th>\n",
       "      <th>S</th>\n",
       "    </tr>\n",
       "  </thead>\n",
       "  <tbody>\n",
       "    <tr>\n",
       "      <th>0</th>\n",
       "      <td>0</td>\n",
       "      <td>3</td>\n",
       "      <td>male</td>\n",
       "      <td>22.0</td>\n",
       "      <td>1</td>\n",
       "      <td>0</td>\n",
       "      <td>7.2500</td>\n",
       "      <td>S</td>\n",
       "      <td>0</td>\n",
       "      <td>1</td>\n",
       "      <td>0</td>\n",
       "      <td>0</td>\n",
       "      <td>1</td>\n",
       "    </tr>\n",
       "    <tr>\n",
       "      <th>1</th>\n",
       "      <td>1</td>\n",
       "      <td>1</td>\n",
       "      <td>female</td>\n",
       "      <td>38.0</td>\n",
       "      <td>1</td>\n",
       "      <td>0</td>\n",
       "      <td>71.2833</td>\n",
       "      <td>C</td>\n",
       "      <td>1</td>\n",
       "      <td>0</td>\n",
       "      <td>1</td>\n",
       "      <td>0</td>\n",
       "      <td>0</td>\n",
       "    </tr>\n",
       "    <tr>\n",
       "      <th>2</th>\n",
       "      <td>1</td>\n",
       "      <td>3</td>\n",
       "      <td>female</td>\n",
       "      <td>26.0</td>\n",
       "      <td>0</td>\n",
       "      <td>0</td>\n",
       "      <td>7.9250</td>\n",
       "      <td>S</td>\n",
       "      <td>1</td>\n",
       "      <td>0</td>\n",
       "      <td>0</td>\n",
       "      <td>0</td>\n",
       "      <td>1</td>\n",
       "    </tr>\n",
       "    <tr>\n",
       "      <th>3</th>\n",
       "      <td>1</td>\n",
       "      <td>1</td>\n",
       "      <td>female</td>\n",
       "      <td>35.0</td>\n",
       "      <td>1</td>\n",
       "      <td>0</td>\n",
       "      <td>53.1000</td>\n",
       "      <td>S</td>\n",
       "      <td>1</td>\n",
       "      <td>0</td>\n",
       "      <td>0</td>\n",
       "      <td>0</td>\n",
       "      <td>1</td>\n",
       "    </tr>\n",
       "    <tr>\n",
       "      <th>4</th>\n",
       "      <td>0</td>\n",
       "      <td>3</td>\n",
       "      <td>male</td>\n",
       "      <td>35.0</td>\n",
       "      <td>0</td>\n",
       "      <td>0</td>\n",
       "      <td>8.0500</td>\n",
       "      <td>S</td>\n",
       "      <td>0</td>\n",
       "      <td>1</td>\n",
       "      <td>0</td>\n",
       "      <td>0</td>\n",
       "      <td>1</td>\n",
       "    </tr>\n",
       "  </tbody>\n",
       "</table>\n",
       "</div>"
      ],
      "text/plain": [
       "   Survived  Pclass     Sex   Age  SibSp  Parch     Fare Embarked  female  \\\n",
       "0         0       3    male  22.0      1      0   7.2500        S       0   \n",
       "1         1       1  female  38.0      1      0  71.2833        C       1   \n",
       "2         1       3  female  26.0      0      0   7.9250        S       1   \n",
       "3         1       1  female  35.0      1      0  53.1000        S       1   \n",
       "4         0       3    male  35.0      0      0   8.0500        S       0   \n",
       "\n",
       "   male  C  Q  S  \n",
       "0     1  0  0  1  \n",
       "1     0  1  0  0  \n",
       "2     0  0  0  1  \n",
       "3     0  0  0  1  \n",
       "4     1  0  0  1  "
      ]
     },
     "execution_count": 76,
     "metadata": {},
     "output_type": "execute_result"
    }
   ],
   "source": [
    "Sex_dummies = pd.get_dummies(data[\"Sex\"])\n",
    "Embarked_dummies = pd.get_dummies(data[\"Embarked\"])\n",
    "\n",
    "data = pd.concat((data, Sex_dummies, Embarked_dummies), axis=1)\n",
    "data.head()"
   ]
  },
  {
   "cell_type": "code",
   "execution_count": 77,
   "id": "6114b247",
   "metadata": {},
   "outputs": [],
   "source": [
    "data.drop([\"Sex\", \"Embarked\"], axis=1, inplace=True)"
   ]
  },
  {
   "cell_type": "markdown",
   "id": "f241577e",
   "metadata": {},
   "source": [
    "# Splitting the data\n",
    "### Split Features and Target "
   ]
  },
  {
   "cell_type": "code",
   "execution_count": 78,
   "id": "b1f15951",
   "metadata": {},
   "outputs": [
    {
     "data": {
      "text/html": [
       "<div>\n",
       "<style scoped>\n",
       "    .dataframe tbody tr th:only-of-type {\n",
       "        vertical-align: middle;\n",
       "    }\n",
       "\n",
       "    .dataframe tbody tr th {\n",
       "        vertical-align: top;\n",
       "    }\n",
       "\n",
       "    .dataframe thead th {\n",
       "        text-align: right;\n",
       "    }\n",
       "</style>\n",
       "<table border=\"1\" class=\"dataframe\">\n",
       "  <thead>\n",
       "    <tr style=\"text-align: right;\">\n",
       "      <th></th>\n",
       "      <th>Pclass</th>\n",
       "      <th>Age</th>\n",
       "      <th>SibSp</th>\n",
       "      <th>Parch</th>\n",
       "      <th>Fare</th>\n",
       "      <th>female</th>\n",
       "      <th>male</th>\n",
       "      <th>C</th>\n",
       "      <th>Q</th>\n",
       "      <th>S</th>\n",
       "    </tr>\n",
       "  </thead>\n",
       "  <tbody>\n",
       "    <tr>\n",
       "      <th>0</th>\n",
       "      <td>3</td>\n",
       "      <td>22.000000</td>\n",
       "      <td>1</td>\n",
       "      <td>0</td>\n",
       "      <td>7.2500</td>\n",
       "      <td>0</td>\n",
       "      <td>1</td>\n",
       "      <td>0</td>\n",
       "      <td>0</td>\n",
       "      <td>1</td>\n",
       "    </tr>\n",
       "    <tr>\n",
       "      <th>1</th>\n",
       "      <td>1</td>\n",
       "      <td>38.000000</td>\n",
       "      <td>1</td>\n",
       "      <td>0</td>\n",
       "      <td>71.2833</td>\n",
       "      <td>1</td>\n",
       "      <td>0</td>\n",
       "      <td>1</td>\n",
       "      <td>0</td>\n",
       "      <td>0</td>\n",
       "    </tr>\n",
       "    <tr>\n",
       "      <th>2</th>\n",
       "      <td>3</td>\n",
       "      <td>26.000000</td>\n",
       "      <td>0</td>\n",
       "      <td>0</td>\n",
       "      <td>7.9250</td>\n",
       "      <td>1</td>\n",
       "      <td>0</td>\n",
       "      <td>0</td>\n",
       "      <td>0</td>\n",
       "      <td>1</td>\n",
       "    </tr>\n",
       "    <tr>\n",
       "      <th>3</th>\n",
       "      <td>1</td>\n",
       "      <td>35.000000</td>\n",
       "      <td>1</td>\n",
       "      <td>0</td>\n",
       "      <td>53.1000</td>\n",
       "      <td>1</td>\n",
       "      <td>0</td>\n",
       "      <td>0</td>\n",
       "      <td>0</td>\n",
       "      <td>1</td>\n",
       "    </tr>\n",
       "    <tr>\n",
       "      <th>4</th>\n",
       "      <td>3</td>\n",
       "      <td>35.000000</td>\n",
       "      <td>0</td>\n",
       "      <td>0</td>\n",
       "      <td>8.0500</td>\n",
       "      <td>0</td>\n",
       "      <td>1</td>\n",
       "      <td>0</td>\n",
       "      <td>0</td>\n",
       "      <td>1</td>\n",
       "    </tr>\n",
       "    <tr>\n",
       "      <th>...</th>\n",
       "      <td>...</td>\n",
       "      <td>...</td>\n",
       "      <td>...</td>\n",
       "      <td>...</td>\n",
       "      <td>...</td>\n",
       "      <td>...</td>\n",
       "      <td>...</td>\n",
       "      <td>...</td>\n",
       "      <td>...</td>\n",
       "      <td>...</td>\n",
       "    </tr>\n",
       "    <tr>\n",
       "      <th>886</th>\n",
       "      <td>2</td>\n",
       "      <td>27.000000</td>\n",
       "      <td>0</td>\n",
       "      <td>0</td>\n",
       "      <td>13.0000</td>\n",
       "      <td>0</td>\n",
       "      <td>1</td>\n",
       "      <td>0</td>\n",
       "      <td>0</td>\n",
       "      <td>1</td>\n",
       "    </tr>\n",
       "    <tr>\n",
       "      <th>887</th>\n",
       "      <td>1</td>\n",
       "      <td>19.000000</td>\n",
       "      <td>0</td>\n",
       "      <td>0</td>\n",
       "      <td>30.0000</td>\n",
       "      <td>1</td>\n",
       "      <td>0</td>\n",
       "      <td>0</td>\n",
       "      <td>0</td>\n",
       "      <td>1</td>\n",
       "    </tr>\n",
       "    <tr>\n",
       "      <th>888</th>\n",
       "      <td>3</td>\n",
       "      <td>29.699118</td>\n",
       "      <td>1</td>\n",
       "      <td>2</td>\n",
       "      <td>23.4500</td>\n",
       "      <td>1</td>\n",
       "      <td>0</td>\n",
       "      <td>0</td>\n",
       "      <td>0</td>\n",
       "      <td>1</td>\n",
       "    </tr>\n",
       "    <tr>\n",
       "      <th>889</th>\n",
       "      <td>1</td>\n",
       "      <td>26.000000</td>\n",
       "      <td>0</td>\n",
       "      <td>0</td>\n",
       "      <td>30.0000</td>\n",
       "      <td>0</td>\n",
       "      <td>1</td>\n",
       "      <td>1</td>\n",
       "      <td>0</td>\n",
       "      <td>0</td>\n",
       "    </tr>\n",
       "    <tr>\n",
       "      <th>890</th>\n",
       "      <td>3</td>\n",
       "      <td>32.000000</td>\n",
       "      <td>0</td>\n",
       "      <td>0</td>\n",
       "      <td>7.7500</td>\n",
       "      <td>0</td>\n",
       "      <td>1</td>\n",
       "      <td>0</td>\n",
       "      <td>1</td>\n",
       "      <td>0</td>\n",
       "    </tr>\n",
       "  </tbody>\n",
       "</table>\n",
       "<p>891 rows × 10 columns</p>\n",
       "</div>"
      ],
      "text/plain": [
       "     Pclass        Age  SibSp  Parch     Fare  female  male  C  Q  S\n",
       "0         3  22.000000      1      0   7.2500       0     1  0  0  1\n",
       "1         1  38.000000      1      0  71.2833       1     0  1  0  0\n",
       "2         3  26.000000      0      0   7.9250       1     0  0  0  1\n",
       "3         1  35.000000      1      0  53.1000       1     0  0  0  1\n",
       "4         3  35.000000      0      0   8.0500       0     1  0  0  1\n",
       "..      ...        ...    ...    ...      ...     ...   ... .. .. ..\n",
       "886       2  27.000000      0      0  13.0000       0     1  0  0  1\n",
       "887       1  19.000000      0      0  30.0000       1     0  0  0  1\n",
       "888       3  29.699118      1      2  23.4500       1     0  0  0  1\n",
       "889       1  26.000000      0      0  30.0000       0     1  1  0  0\n",
       "890       3  32.000000      0      0   7.7500       0     1  0  1  0\n",
       "\n",
       "[891 rows x 10 columns]"
      ]
     },
     "execution_count": 78,
     "metadata": {},
     "output_type": "execute_result"
    }
   ],
   "source": [
    "x = data.drop(\"Survived\", axis=1)\n",
    "y = data[\"Survived\"]\n",
    "\n",
    "x"
   ]
  },
  {
   "cell_type": "markdown",
   "id": "f525ab9e",
   "metadata": {},
   "source": [
    "### Split into Train and Test data"
   ]
  },
  {
   "cell_type": "code",
   "execution_count": 79,
   "id": "3fa9ccaa",
   "metadata": {},
   "outputs": [
    {
     "name": "stdout",
     "output_type": "stream",
     "text": [
      "<class 'pandas.core.frame.DataFrame'>\n",
      "Int64Index: 668 entries, 133 to 812\n",
      "Data columns (total 10 columns):\n",
      " #   Column  Non-Null Count  Dtype  \n",
      "---  ------  --------------  -----  \n",
      " 0   Pclass  668 non-null    int64  \n",
      " 1   Age     668 non-null    float64\n",
      " 2   SibSp   668 non-null    int64  \n",
      " 3   Parch   668 non-null    int64  \n",
      " 4   Fare    668 non-null    float64\n",
      " 5   female  668 non-null    uint8  \n",
      " 6   male    668 non-null    uint8  \n",
      " 7   C       668 non-null    uint8  \n",
      " 8   Q       668 non-null    uint8  \n",
      " 9   S       668 non-null    uint8  \n",
      "dtypes: float64(2), int64(3), uint8(5)\n",
      "memory usage: 34.6 KB\n"
     ]
    }
   ],
   "source": [
    "x_train, x_test, y_train, y_test = train_test_split(x,y)\n",
    "\n",
    "x_train.info()"
   ]
  },
  {
   "cell_type": "markdown",
   "id": "b4131bd6",
   "metadata": {},
   "source": [
    "# GradientBoostingClassifier Model"
   ]
  },
  {
   "cell_type": "code",
   "execution_count": 80,
   "id": "b1bbedad",
   "metadata": {},
   "outputs": [
    {
     "data": {
      "text/plain": [
       "GradientBoostingClassifier()"
      ]
     },
     "execution_count": 80,
     "metadata": {},
     "output_type": "execute_result"
    }
   ],
   "source": [
    "gb_model = GradientBoostingClassifier()\n",
    "\n",
    "gb_model.fit(x_train, y_train)\n",
    "\n",
    "y_pred = gr_model.predict(x_test)"
   ]
  },
  {
   "cell_type": "markdown",
   "id": "86e65617",
   "metadata": {},
   "source": [
    "# Evaluating the model"
   ]
  },
  {
   "cell_type": "code",
   "execution_count": 81,
   "id": "20ac0132",
   "metadata": {},
   "outputs": [
    {
     "data": {
      "text/plain": [
       "0.8385650224215246"
      ]
     },
     "execution_count": 81,
     "metadata": {},
     "output_type": "execute_result"
    }
   ],
   "source": [
    "gb_model.score(x_test, y_test)"
   ]
  },
  {
   "cell_type": "markdown",
   "id": "42c9a0f7",
   "metadata": {},
   "source": [
    "# Hyperparameter Tunning"
   ]
  },
  {
   "cell_type": "code",
   "execution_count": null,
   "id": "ca4b9bfc",
   "metadata": {},
   "outputs": [],
   "source": [
    "params = {\"n_estimators\"=250,\n",
    "          \"learning_rate\"=0.05, \n",
    "          \"max_depth\"=10, \n",
    "          \"max_features\" = 0.8,\n",
    "          \"min_samples_leaf\"=4, \n",
    "          \"random_state\"=0, \n",
    "          \"subsample\" =0.9,}"
   ]
  },
  {
   "cell_type": "markdown",
   "id": "568f980e",
   "metadata": {},
   "source": [
    "# Evaluating the optimized model"
   ]
  },
  {
   "cell_type": "code",
   "execution_count": null,
   "id": "a80b04c8",
   "metadata": {},
   "outputs": [],
   "source": []
  }
 ],
 "metadata": {
  "kernelspec": {
   "display_name": "Python 3 (ipykernel)",
   "language": "python",
   "name": "python3"
  },
  "language_info": {
   "codemirror_mode": {
    "name": "ipython",
    "version": 3
   },
   "file_extension": ".py",
   "mimetype": "text/x-python",
   "name": "python",
   "nbconvert_exporter": "python",
   "pygments_lexer": "ipython3",
   "version": "3.10.0"
  }
 },
 "nbformat": 4,
 "nbformat_minor": 5
}
