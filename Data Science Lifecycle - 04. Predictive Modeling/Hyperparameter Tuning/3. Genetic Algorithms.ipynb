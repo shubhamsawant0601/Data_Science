{
 "cells": [
  {
   "cell_type": "markdown",
   "id": "c81a5997",
   "metadata": {},
   "source": [
    "# Genetic Algorithms\n",
    "\n",
    "1. We create N number of models from which top half of them who perform best are selected \n",
    "\n",
    "2. Offsprings are created from those selected model such that offspring haves similar hyperparameters. So again we have N number of models.\n",
    "\n",
    "3. Calculate the accuracy of each model and the best one selected\n",
    "\n",
    "4. This cycle continues for predefined number of time.\n",
    "\n",
    "5. At the end models who perform best are survived."
   ]
  },
  {
   "cell_type": "markdown",
   "id": "2fb64098",
   "metadata": {},
   "source": [
    "# 1. Importing necessary libraries and data, Preprocessing and Defining the Model"
   ]
  },
  {
   "cell_type": "code",
   "execution_count": null,
   "id": "63c0d3b4",
   "metadata": {},
   "outputs": [],
   "source": [
    "# Loading Libraries\n",
    "import numpy as np\n",
    "import pandas as pd\n",
    "import seaborn as sns\n",
    "import matplotlib as plt\n",
    "from sklearn.model_selection import train_test_split\n",
    "from sklearn.ensemble import RandomForestClassifier\n",
    "from sklearn.metrics import confusion_matrix, classification_report,accuracy_score \n",
    "import warnings\n",
    "warnings.filterwarnings('ignore')\n",
    "\n",
    "# Loading Data\n",
    "df = pd.read_csv('preprocessed_diabetes.csv')\n",
    "\n",
    "# Splitting into Features and Target\n",
    "x = df.drop([\"Outcome\"], axis=1)\n",
    "y = df[\"Outcome\"]\n",
    "\n",
    "# Splitting into Train Test\n",
    "x_train, x_test, y_train, y_test = train_test_split(x,y, test_size=0.2, random_state=33)\n",
    "\n",
    "\n",
    "# Defining the RandomForest Classifier\n",
    "rf = RandomForestClassifier()"
   ]
  },
  {
   "cell_type": "code",
   "execution_count": 2,
   "id": "0851dfa7",
   "metadata": {},
   "outputs": [],
   "source": [
    "from tpot import TPOTClassifier"
   ]
  },
  {
   "cell_type": "markdown",
   "id": "1b385cca",
   "metadata": {},
   "source": [
    "# 2. Creating the dictionary of hyperparameters"
   ]
  },
  {
   "cell_type": "code",
   "execution_count": 3,
   "id": "c65ac18d",
   "metadata": {},
   "outputs": [
    {
     "name": "stdout",
     "output_type": "stream",
     "text": [
      "{'n_estimators': [200, 400, 600, 800, 1000], 'max_features': ['auto', 'sqrt', 'log2'], 'max_depth': [10, 25, 41, 56, 72, 87, 103, 118, 134, 150], 'min_samples_split': [2, 5, 10, 14], 'min_samples_leaf': [1, 2, 4, 6, 8], 'criterion': ['entropy', 'gini']}\n"
     ]
    }
   ],
   "source": [
    "n_estimators = [int(x) for x in np.linspace(start = 200, stop = 1000, num = 5)]\n",
    "\n",
    "max_features = ['auto', 'sqrt','log2']\n",
    "\n",
    "max_depth = [int(x) for x in np.linspace(10, 150,10)]\n",
    "\n",
    "min_samples_split = [2, 5, 10,14]\n",
    "\n",
    "min_samples_leaf = [1, 2, 4,6,8]\n",
    "\n",
    "params = { 'n_estimators': n_estimators,\n",
    "           'max_features': max_features,\n",
    "           'max_depth': max_depth,\n",
    "           'min_samples_split': min_samples_split,\n",
    "           'min_samples_leaf': min_samples_leaf,\n",
    "           'criterion':['entropy','gini']}\n",
    "print(params)"
   ]
  },
  {
   "cell_type": "markdown",
   "id": "9f8a21c6",
   "metadata": {},
   "source": [
    "# 3. Using TOPTClassifier to fit Dict of parapmeters and give best of them"
   ]
  },
  {
   "cell_type": "code",
   "execution_count": 4,
   "id": "5b67e9c5",
   "metadata": {},
   "outputs": [
    {
     "data": {
      "application/vnd.jupyter.widget-view+json": {
       "model_id": "",
       "version_major": 2,
       "version_minor": 0
      },
      "text/plain": [
       "Optimization Progress:   0%|          | 0/84 [00:00<?, ?pipeline/s]"
      ]
     },
     "metadata": {},
     "output_type": "display_data"
    },
    {
     "name": "stdout",
     "output_type": "stream",
     "text": [
      "\n",
      "Generation 1 - Current best internal CV score: 0.7850564468211527\n",
      "\n",
      "Generation 2 - Current best internal CV score: 0.7850564468211527\n",
      "\n",
      "Generation 3 - Current best internal CV score: 0.7850564468211527\n",
      "\n",
      "Generation 4 - Current best internal CV score: 0.7850564468211527\n",
      "\n",
      "Generation 5 - Current best internal CV score: 0.7850564468211527\n",
      "\n",
      "Best pipeline: RandomForestClassifier(CombineDFs(RandomForestClassifier(input_matrix, criterion=entropy, max_depth=56, max_features=log2, min_samples_leaf=4, min_samples_split=14, n_estimators=200), input_matrix), criterion=gini, max_depth=25, max_features=sqrt, min_samples_leaf=8, min_samples_split=14, n_estimators=400)\n"
     ]
    },
    {
     "data": {
      "text/plain": [
       "TPOTClassifier(config_dict={'sklearn.ensemble.RandomForestClassifier': {'criterion': ['entropy',\n",
       "                                                                                      'gini'],\n",
       "                                                                        'max_depth': [10,\n",
       "                                                                                      25,\n",
       "                                                                                      41,\n",
       "                                                                                      56,\n",
       "                                                                                      72,\n",
       "                                                                                      87,\n",
       "                                                                                      103,\n",
       "                                                                                      118,\n",
       "                                                                                      134,\n",
       "                                                                                      150],\n",
       "                                                                        'max_features': ['auto',\n",
       "                                                                                         'sqrt',\n",
       "                                                                                         'log2'],\n",
       "                                                                        'min_samples_leaf': [1,\n",
       "                                                                                             2,\n",
       "                                                                                             4,\n",
       "                                                                                             6,\n",
       "                                                                                             8],\n",
       "                                                                        'min_samples_split': [2,\n",
       "                                                                                              5,\n",
       "                                                                                              10,\n",
       "                                                                                              14],\n",
       "                                                                        'n_estimators': [200,\n",
       "                                                                                         400,\n",
       "                                                                                         600,\n",
       "                                                                                         800,\n",
       "                                                                                         1000]}},\n",
       "               cv=4, early_stop=12, generations=5, offspring_size=12,\n",
       "               population_size=24, scoring='accuracy', verbosity=2)"
      ]
     },
     "execution_count": 4,
     "metadata": {},
     "output_type": "execute_result"
    }
   ],
   "source": [
    "tpot_classifier = TPOTClassifier(generations = 5, population_size = 24, offspring_size = 12, config_dict={'sklearn.ensemble.RandomForestClassifier':params},\n",
    "                                verbosity = 2, early_stop=12, cv=4, scoring='accuracy')\n",
    "\n",
    "tpot_classifier.fit(x_train, y_train)"
   ]
  },
  {
   "cell_type": "code",
   "execution_count": null,
   "id": "327d8d86",
   "metadata": {},
   "outputs": [],
   "source": []
  }
 ],
 "metadata": {
  "kernelspec": {
   "display_name": "Python 3 (ipykernel)",
   "language": "python",
   "name": "python3"
  },
  "language_info": {
   "codemirror_mode": {
    "name": "ipython",
    "version": 3
   },
   "file_extension": ".py",
   "mimetype": "text/x-python",
   "name": "python",
   "nbconvert_exporter": "python",
   "pygments_lexer": "ipython3",
   "version": "3.10.0"
  }
 },
 "nbformat": 4,
 "nbformat_minor": 5
}
