{
 "cells": [
  {
   "cell_type": "markdown",
   "id": "70e76f1b",
   "metadata": {},
   "source": [
    "## 1. RandomizedSearchCV\n",
    "- Always use RandomizedsearchCV before GridSearchCV because RandomizedSearchCV will randomly select the parameters and check wheather they give better results or not; It just narrow down the parameters and then we can use GridSearchCV which thoroughly make and analyze each Permutation and combination and give results.\n",
    "\n",
    "-  Model randomly makes combinations of its own and tries to fit the dataset and test the accuracy. Here, chances are there to miss on a few combinations which could have been optimal ones. Although, random search consumes quite less amount of time and most of the time it gives optimal solutions as well. So, in that case, it is a win-win situation.\n",
    "### Parameters in RandomizedSearchcv()\n",
    "------------------------------------------------------\n",
    "1. **`estimator`** = name of model forwhich we perform tuning.\n",
    "2. **`param_distributions`** = dictionary of parameters as key and list of respective parameters as value is given from which best values of parameters are found.\n",
    "\n",
    "3. **`n_iter`** - No. of iteratons randomizedSearchCV should perform so that best parametrs are obatined from those n number of Permutations and combinations. As RandomizedSearchCV does not perform thorough search with every possible Permutation, it only perform given no. of iteraions and pickup values randomly.\n",
    "\n",
    "4. **`cv`** - Number of cross validation are the number of times train test split taken place sequentially.\n",
    "\n",
    "5. **`verbose`**- It gives the displayed logs.\n",
    "\n",
    "6. **`random_state`** - seed for randomising and creating the same permutations and combinations again.\n",
    "\n",
    "7. **`n_jobs`** - How many cores of machine to use for calculations. (-1 implies maximum cores) \n",
    "\n",
    "\n",
    "**No of fits = (cv)(n_iter)**"
   ]
  },
  {
   "cell_type": "markdown",
   "id": "ea7b3808",
   "metadata": {},
   "source": [
    "# 1. Importing necessary libraries and data, Preprocessing and Defining the Model"
   ]
  },
  {
   "cell_type": "code",
   "execution_count": null,
   "id": "cfcd4876",
   "metadata": {},
   "outputs": [],
   "source": [
    "# Loading Libraries\n",
    "import numpy as np\n",
    "import pandas as pd\n",
    "import seaborn as sns\n",
    "import matplotlib as plt\n",
    "from sklearn.model_selection import train_test_split\n",
    "from sklearn.ensemble import RandomForestClassifier\n",
    "from sklearn.metrics import confusion_matrix, classification_report,accuracy_score \n",
    "import warnings\n",
    "warnings.filterwarnings('ignore')\n",
    "\n",
    "# Loading Data\n",
    "df = pd.read_csv('preprocessed_diabetes.csv')\n",
    "\n",
    "# Splitting into Features and Target\n",
    "x = df.drop([\"Outcome\"], axis=1)\n",
    "y = df[\"Outcome\"]\n",
    "\n",
    "# Splitting into Train Test\n",
    "x_train, x_test, y_train, y_test = train_test_split(x,y, test_size=0.2, random_state=33)\n",
    "\n",
    "# Defining the RandomForest Classifier\n",
    "rf = RandomForestClassifier()"
   ]
  },
  {
   "cell_type": "code",
   "execution_count": null,
   "id": "3bd2bfca",
   "metadata": {},
   "outputs": [],
   "source": [
    "from sklearn.model_selection import RandomizedSearchCV"
   ]
  },
  {
   "cell_type": "markdown",
   "id": "68abccce",
   "metadata": {},
   "source": [
    "# 2. Creating the dictionary of hyperparameters"
   ]
  },
  {
   "cell_type": "code",
   "execution_count": 9,
   "id": "fb780f5c",
   "metadata": {},
   "outputs": [
    {
     "name": "stdout",
     "output_type": "stream",
     "text": [
      "{'n_estimators': [200, 400, 600, 800, 1000], 'max_features': ['auto', 'sqrt', 'log2'], 'max_depth': [10, 25, 41, 56, 72, 87, 103, 118, 134, 150], 'min_samples_split': [2, 5, 10, 14], 'min_samples_leaf': [1, 2, 4, 6, 8], 'criterion': ['entropy', 'gini']}\n"
     ]
    }
   ],
   "source": [
    "# Number of trees in random forest\n",
    "n_estimators = [int(x) for x in np.linspace(start = 200, stop = 1000, num = 5)]\n",
    "\n",
    "# Number of features to consider at every split\n",
    "max_features = ['auto', 'sqrt','log2']\n",
    "\n",
    "# Maximum number of levels in tree\n",
    "max_depth = [int(x) for x in np.linspace(10, 150,10)]\n",
    "\n",
    "# Minimum number of samples required to split a node\n",
    "min_samples_split = [2, 5, 10,14]\n",
    "\n",
    "# Minimum number of samples required at each leaf node\n",
    "min_samples_leaf = [1, 2, 4,6,8]\n",
    "\n",
    "params = { 'n_estimators': n_estimators,\n",
    "           'max_features': max_features,\n",
    "           'max_depth': max_depth,\n",
    "           'min_samples_split': min_samples_split,\n",
    "           'min_samples_leaf': min_samples_leaf,\n",
    "           'criterion':['entropy','gini']}\n",
    "print(params)"
   ]
  },
  {
   "cell_type": "markdown",
   "id": "ec90a6d2",
   "metadata": {},
   "source": [
    "# 3. Defining the RandomSearchCV with necessary parameters of function"
   ]
  },
  {
   "cell_type": "code",
   "execution_count": 10,
   "id": "d660f5bc",
   "metadata": {},
   "outputs": [
    {
     "name": "stdout",
     "output_type": "stream",
     "text": [
      "Fitting 2 folds for each of 100 candidates, totalling 200 fits\n",
      "[CV] END criterion=entropy, max_depth=10, max_features=sqrt, min_samples_leaf=2, min_samples_split=5, n_estimators=600; total time=   1.6s\n",
      "[CV] END criterion=entropy, max_depth=10, max_features=sqrt, min_samples_leaf=2, min_samples_split=5, n_estimators=600; total time=   1.6s\n",
      "[CV] END criterion=entropy, max_depth=118, max_features=auto, min_samples_leaf=6, min_samples_split=14, n_estimators=200; total time=   0.5s\n",
      "[CV] END criterion=entropy, max_depth=118, max_features=auto, min_samples_leaf=6, min_samples_split=14, n_estimators=200; total time=   0.4s\n",
      "[CV] END criterion=gini, max_depth=150, max_features=sqrt, min_samples_leaf=6, min_samples_split=2, n_estimators=1000; total time=   2.4s\n",
      "[CV] END criterion=gini, max_depth=150, max_features=sqrt, min_samples_leaf=6, min_samples_split=2, n_estimators=1000; total time=   2.2s\n",
      "[CV] END criterion=gini, max_depth=103, max_features=log2, min_samples_leaf=4, min_samples_split=14, n_estimators=600; total time=   2.1s\n",
      "[CV] END criterion=gini, max_depth=103, max_features=log2, min_samples_leaf=4, min_samples_split=14, n_estimators=600; total time=   1.9s\n",
      "[CV] END criterion=entropy, max_depth=150, max_features=auto, min_samples_leaf=6, min_samples_split=14, n_estimators=1000; total time=   2.8s\n",
      "[CV] END criterion=entropy, max_depth=150, max_features=auto, min_samples_leaf=6, min_samples_split=14, n_estimators=1000; total time=   3.1s\n",
      "[CV] END criterion=entropy, max_depth=103, max_features=log2, min_samples_leaf=2, min_samples_split=2, n_estimators=600; total time=   1.9s\n",
      "[CV] END criterion=entropy, max_depth=103, max_features=log2, min_samples_leaf=2, min_samples_split=2, n_estimators=600; total time=   1.7s\n",
      "[CV] END criterion=entropy, max_depth=118, max_features=auto, min_samples_leaf=6, min_samples_split=14, n_estimators=1000; total time=   2.6s\n",
      "[CV] END criterion=entropy, max_depth=118, max_features=auto, min_samples_leaf=6, min_samples_split=14, n_estimators=1000; total time=   2.7s\n",
      "[CV] END criterion=entropy, max_depth=72, max_features=log2, min_samples_leaf=6, min_samples_split=2, n_estimators=800; total time=   2.3s\n",
      "[CV] END criterion=entropy, max_depth=72, max_features=log2, min_samples_leaf=6, min_samples_split=2, n_estimators=800; total time=   2.4s\n",
      "[CV] END criterion=gini, max_depth=118, max_features=sqrt, min_samples_leaf=8, min_samples_split=10, n_estimators=400; total time=   0.9s\n",
      "[CV] END criterion=gini, max_depth=118, max_features=sqrt, min_samples_leaf=8, min_samples_split=10, n_estimators=400; total time=   0.9s\n",
      "[CV] END criterion=gini, max_depth=118, max_features=auto, min_samples_leaf=1, min_samples_split=2, n_estimators=600; total time=   1.5s\n",
      "[CV] END criterion=gini, max_depth=118, max_features=auto, min_samples_leaf=1, min_samples_split=2, n_estimators=600; total time=   1.9s\n",
      "[CV] END criterion=entropy, max_depth=72, max_features=auto, min_samples_leaf=8, min_samples_split=2, n_estimators=800; total time=   2.3s\n",
      "[CV] END criterion=entropy, max_depth=72, max_features=auto, min_samples_leaf=8, min_samples_split=2, n_estimators=800; total time=   2.0s\n",
      "[CV] END criterion=entropy, max_depth=87, max_features=sqrt, min_samples_leaf=1, min_samples_split=2, n_estimators=600; total time=   1.9s\n",
      "[CV] END criterion=entropy, max_depth=87, max_features=sqrt, min_samples_leaf=1, min_samples_split=2, n_estimators=600; total time=   1.7s\n",
      "[CV] END criterion=entropy, max_depth=150, max_features=log2, min_samples_leaf=6, min_samples_split=14, n_estimators=1000; total time=   3.1s\n",
      "[CV] END criterion=entropy, max_depth=150, max_features=log2, min_samples_leaf=6, min_samples_split=14, n_estimators=1000; total time=   2.5s\n",
      "[CV] END criterion=entropy, max_depth=56, max_features=auto, min_samples_leaf=2, min_samples_split=2, n_estimators=200; total time=   0.6s\n",
      "[CV] END criterion=entropy, max_depth=56, max_features=auto, min_samples_leaf=2, min_samples_split=2, n_estimators=200; total time=   0.4s\n",
      "[CV] END criterion=gini, max_depth=10, max_features=auto, min_samples_leaf=1, min_samples_split=14, n_estimators=1000; total time=   3.0s\n",
      "[CV] END criterion=gini, max_depth=10, max_features=auto, min_samples_leaf=1, min_samples_split=14, n_estimators=1000; total time=   2.7s\n",
      "[CV] END criterion=entropy, max_depth=103, max_features=auto, min_samples_leaf=4, min_samples_split=5, n_estimators=200; total time=   0.6s\n",
      "[CV] END criterion=entropy, max_depth=103, max_features=auto, min_samples_leaf=4, min_samples_split=5, n_estimators=200; total time=   0.6s\n",
      "[CV] END criterion=gini, max_depth=72, max_features=log2, min_samples_leaf=6, min_samples_split=5, n_estimators=200; total time=   0.5s\n",
      "[CV] END criterion=gini, max_depth=72, max_features=log2, min_samples_leaf=6, min_samples_split=5, n_estimators=200; total time=   0.5s\n",
      "[CV] END criterion=gini, max_depth=87, max_features=sqrt, min_samples_leaf=6, min_samples_split=14, n_estimators=600; total time=   1.5s\n",
      "[CV] END criterion=gini, max_depth=87, max_features=sqrt, min_samples_leaf=6, min_samples_split=14, n_estimators=600; total time=   1.7s\n",
      "[CV] END criterion=gini, max_depth=72, max_features=log2, min_samples_leaf=2, min_samples_split=14, n_estimators=600; total time=   1.8s\n",
      "[CV] END criterion=gini, max_depth=72, max_features=log2, min_samples_leaf=2, min_samples_split=14, n_estimators=600; total time=   2.7s\n",
      "[CV] END criterion=gini, max_depth=118, max_features=log2, min_samples_leaf=1, min_samples_split=10, n_estimators=200; total time=   0.6s\n",
      "[CV] END criterion=gini, max_depth=118, max_features=log2, min_samples_leaf=1, min_samples_split=10, n_estimators=200; total time=   0.4s\n",
      "[CV] END criterion=entropy, max_depth=118, max_features=auto, min_samples_leaf=4, min_samples_split=2, n_estimators=1000; total time=   3.0s\n",
      "[CV] END criterion=entropy, max_depth=118, max_features=auto, min_samples_leaf=4, min_samples_split=2, n_estimators=1000; total time=   3.1s\n",
      "[CV] END criterion=gini, max_depth=25, max_features=sqrt, min_samples_leaf=8, min_samples_split=10, n_estimators=400; total time=   1.2s\n",
      "[CV] END criterion=gini, max_depth=25, max_features=sqrt, min_samples_leaf=8, min_samples_split=10, n_estimators=400; total time=   1.2s\n",
      "[CV] END criterion=gini, max_depth=10, max_features=sqrt, min_samples_leaf=2, min_samples_split=2, n_estimators=600; total time=   1.4s\n",
      "[CV] END criterion=gini, max_depth=10, max_features=sqrt, min_samples_leaf=2, min_samples_split=2, n_estimators=600; total time=   1.8s\n",
      "[CV] END criterion=gini, max_depth=103, max_features=log2, min_samples_leaf=1, min_samples_split=2, n_estimators=800; total time=   2.2s\n",
      "[CV] END criterion=gini, max_depth=103, max_features=log2, min_samples_leaf=1, min_samples_split=2, n_estimators=800; total time=   2.2s\n",
      "[CV] END criterion=gini, max_depth=72, max_features=log2, min_samples_leaf=8, min_samples_split=10, n_estimators=200; total time=   0.5s\n",
      "[CV] END criterion=gini, max_depth=72, max_features=log2, min_samples_leaf=8, min_samples_split=10, n_estimators=200; total time=   0.5s\n",
      "[CV] END criterion=gini, max_depth=41, max_features=log2, min_samples_leaf=1, min_samples_split=5, n_estimators=200; total time=   0.6s\n",
      "[CV] END criterion=gini, max_depth=41, max_features=log2, min_samples_leaf=1, min_samples_split=5, n_estimators=200; total time=   0.4s\n",
      "[CV] END criterion=gini, max_depth=134, max_features=auto, min_samples_leaf=1, min_samples_split=5, n_estimators=600; total time=   1.4s\n",
      "[CV] END criterion=gini, max_depth=134, max_features=auto, min_samples_leaf=1, min_samples_split=5, n_estimators=600; total time=   1.4s\n",
      "[CV] END criterion=entropy, max_depth=25, max_features=sqrt, min_samples_leaf=4, min_samples_split=14, n_estimators=1000; total time=   2.5s\n",
      "[CV] END criterion=entropy, max_depth=25, max_features=sqrt, min_samples_leaf=4, min_samples_split=14, n_estimators=1000; total time=   2.6s\n",
      "[CV] END criterion=entropy, max_depth=118, max_features=log2, min_samples_leaf=6, min_samples_split=2, n_estimators=600; total time=   1.5s\n",
      "[CV] END criterion=entropy, max_depth=118, max_features=log2, min_samples_leaf=6, min_samples_split=2, n_estimators=600; total time=   1.4s\n",
      "[CV] END criterion=gini, max_depth=87, max_features=auto, min_samples_leaf=1, min_samples_split=2, n_estimators=1000; total time=   2.1s\n"
     ]
    },
    {
     "name": "stdout",
     "output_type": "stream",
     "text": [
      "[CV] END criterion=gini, max_depth=87, max_features=auto, min_samples_leaf=1, min_samples_split=2, n_estimators=1000; total time=   2.3s\n",
      "[CV] END criterion=entropy, max_depth=103, max_features=sqrt, min_samples_leaf=6, min_samples_split=2, n_estimators=800; total time=   1.7s\n",
      "[CV] END criterion=entropy, max_depth=103, max_features=sqrt, min_samples_leaf=6, min_samples_split=2, n_estimators=800; total time=   1.8s\n",
      "[CV] END criterion=gini, max_depth=41, max_features=auto, min_samples_leaf=8, min_samples_split=10, n_estimators=600; total time=   1.2s\n",
      "[CV] END criterion=gini, max_depth=41, max_features=auto, min_samples_leaf=8, min_samples_split=10, n_estimators=600; total time=   1.2s\n",
      "[CV] END criterion=gini, max_depth=103, max_features=auto, min_samples_leaf=8, min_samples_split=2, n_estimators=400; total time=   0.9s\n",
      "[CV] END criterion=gini, max_depth=103, max_features=auto, min_samples_leaf=8, min_samples_split=2, n_estimators=400; total time=   1.1s\n",
      "[CV] END criterion=gini, max_depth=118, max_features=auto, min_samples_leaf=4, min_samples_split=2, n_estimators=200; total time=   0.5s\n",
      "[CV] END criterion=gini, max_depth=118, max_features=auto, min_samples_leaf=4, min_samples_split=2, n_estimators=200; total time=   0.3s\n",
      "[CV] END criterion=gini, max_depth=103, max_features=sqrt, min_samples_leaf=6, min_samples_split=2, n_estimators=600; total time=   1.3s\n",
      "[CV] END criterion=gini, max_depth=103, max_features=sqrt, min_samples_leaf=6, min_samples_split=2, n_estimators=600; total time=   1.1s\n",
      "[CV] END criterion=gini, max_depth=87, max_features=sqrt, min_samples_leaf=8, min_samples_split=10, n_estimators=1000; total time=   2.3s\n",
      "[CV] END criterion=gini, max_depth=87, max_features=sqrt, min_samples_leaf=8, min_samples_split=10, n_estimators=1000; total time=   2.4s\n",
      "[CV] END criterion=gini, max_depth=87, max_features=sqrt, min_samples_leaf=8, min_samples_split=2, n_estimators=400; total time=   0.8s\n",
      "[CV] END criterion=gini, max_depth=87, max_features=sqrt, min_samples_leaf=8, min_samples_split=2, n_estimators=400; total time=   1.2s\n",
      "[CV] END criterion=gini, max_depth=25, max_features=auto, min_samples_leaf=8, min_samples_split=2, n_estimators=800; total time=   2.6s\n",
      "[CV] END criterion=gini, max_depth=25, max_features=auto, min_samples_leaf=8, min_samples_split=2, n_estimators=800; total time=   1.8s\n",
      "[CV] END criterion=entropy, max_depth=56, max_features=auto, min_samples_leaf=2, min_samples_split=10, n_estimators=200; total time=   0.5s\n",
      "[CV] END criterion=entropy, max_depth=56, max_features=auto, min_samples_leaf=2, min_samples_split=10, n_estimators=200; total time=   0.5s\n",
      "[CV] END criterion=entropy, max_depth=10, max_features=auto, min_samples_leaf=1, min_samples_split=2, n_estimators=600; total time=   1.6s\n",
      "[CV] END criterion=entropy, max_depth=10, max_features=auto, min_samples_leaf=1, min_samples_split=2, n_estimators=600; total time=   1.8s\n",
      "[CV] END criterion=entropy, max_depth=118, max_features=auto, min_samples_leaf=4, min_samples_split=5, n_estimators=200; total time=   0.3s\n",
      "[CV] END criterion=entropy, max_depth=118, max_features=auto, min_samples_leaf=4, min_samples_split=5, n_estimators=200; total time=   0.6s\n",
      "[CV] END criterion=entropy, max_depth=56, max_features=log2, min_samples_leaf=2, min_samples_split=5, n_estimators=400; total time=   1.4s\n",
      "[CV] END criterion=entropy, max_depth=56, max_features=log2, min_samples_leaf=2, min_samples_split=5, n_estimators=400; total time=   1.4s\n",
      "[CV] END criterion=gini, max_depth=25, max_features=sqrt, min_samples_leaf=4, min_samples_split=14, n_estimators=400; total time=   0.9s\n",
      "[CV] END criterion=gini, max_depth=25, max_features=sqrt, min_samples_leaf=4, min_samples_split=14, n_estimators=400; total time=   0.9s\n",
      "[CV] END criterion=gini, max_depth=134, max_features=auto, min_samples_leaf=6, min_samples_split=2, n_estimators=200; total time=   0.3s\n",
      "[CV] END criterion=gini, max_depth=134, max_features=auto, min_samples_leaf=6, min_samples_split=2, n_estimators=200; total time=   0.4s\n",
      "[CV] END criterion=gini, max_depth=103, max_features=log2, min_samples_leaf=2, min_samples_split=5, n_estimators=800; total time=   1.7s\n",
      "[CV] END criterion=gini, max_depth=103, max_features=log2, min_samples_leaf=2, min_samples_split=5, n_estimators=800; total time=   1.7s\n",
      "[CV] END criterion=entropy, max_depth=87, max_features=sqrt, min_samples_leaf=6, min_samples_split=10, n_estimators=400; total time=   1.1s\n",
      "[CV] END criterion=entropy, max_depth=87, max_features=sqrt, min_samples_leaf=6, min_samples_split=10, n_estimators=400; total time=   1.0s\n",
      "[CV] END criterion=entropy, max_depth=150, max_features=sqrt, min_samples_leaf=2, min_samples_split=14, n_estimators=800; total time=   1.9s\n",
      "[CV] END criterion=entropy, max_depth=150, max_features=sqrt, min_samples_leaf=2, min_samples_split=14, n_estimators=800; total time=   1.9s\n",
      "[CV] END criterion=entropy, max_depth=25, max_features=sqrt, min_samples_leaf=6, min_samples_split=10, n_estimators=200; total time=   0.5s\n",
      "[CV] END criterion=entropy, max_depth=25, max_features=sqrt, min_samples_leaf=6, min_samples_split=10, n_estimators=200; total time=   0.7s\n",
      "[CV] END criterion=gini, max_depth=150, max_features=log2, min_samples_leaf=6, min_samples_split=10, n_estimators=600; total time=   1.2s\n",
      "[CV] END criterion=gini, max_depth=150, max_features=log2, min_samples_leaf=6, min_samples_split=10, n_estimators=600; total time=   1.3s\n",
      "[CV] END criterion=gini, max_depth=87, max_features=sqrt, min_samples_leaf=4, min_samples_split=2, n_estimators=1000; total time=   2.6s\n",
      "[CV] END criterion=gini, max_depth=87, max_features=sqrt, min_samples_leaf=4, min_samples_split=2, n_estimators=1000; total time=   2.6s\n",
      "[CV] END criterion=entropy, max_depth=25, max_features=log2, min_samples_leaf=8, min_samples_split=14, n_estimators=600; total time=   1.3s\n",
      "[CV] END criterion=entropy, max_depth=25, max_features=log2, min_samples_leaf=8, min_samples_split=14, n_estimators=600; total time=   1.4s\n",
      "[CV] END criterion=gini, max_depth=87, max_features=log2, min_samples_leaf=8, min_samples_split=5, n_estimators=200; total time=   0.3s\n",
      "[CV] END criterion=gini, max_depth=87, max_features=log2, min_samples_leaf=8, min_samples_split=5, n_estimators=200; total time=   0.4s\n",
      "[CV] END criterion=gini, max_depth=10, max_features=auto, min_samples_leaf=1, min_samples_split=14, n_estimators=200; total time=   0.3s\n",
      "[CV] END criterion=gini, max_depth=10, max_features=auto, min_samples_leaf=1, min_samples_split=14, n_estimators=200; total time=   0.3s\n",
      "[CV] END criterion=entropy, max_depth=103, max_features=auto, min_samples_leaf=8, min_samples_split=2, n_estimators=800; total time=   1.7s\n",
      "[CV] END criterion=entropy, max_depth=103, max_features=auto, min_samples_leaf=8, min_samples_split=2, n_estimators=800; total time=   1.7s\n",
      "[CV] END criterion=entropy, max_depth=72, max_features=auto, min_samples_leaf=4, min_samples_split=5, n_estimators=1000; total time=   2.2s\n",
      "[CV] END criterion=entropy, max_depth=72, max_features=auto, min_samples_leaf=4, min_samples_split=5, n_estimators=1000; total time=   2.3s\n",
      "[CV] END criterion=gini, max_depth=134, max_features=sqrt, min_samples_leaf=1, min_samples_split=2, n_estimators=600; total time=   1.2s\n",
      "[CV] END criterion=gini, max_depth=134, max_features=sqrt, min_samples_leaf=1, min_samples_split=2, n_estimators=600; total time=   1.3s\n",
      "[CV] END criterion=entropy, max_depth=150, max_features=log2, min_samples_leaf=6, min_samples_split=5, n_estimators=600; total time=   1.2s\n",
      "[CV] END criterion=entropy, max_depth=150, max_features=log2, min_samples_leaf=6, min_samples_split=5, n_estimators=600; total time=   1.3s\n",
      "[CV] END criterion=entropy, max_depth=150, max_features=sqrt, min_samples_leaf=4, min_samples_split=5, n_estimators=600; total time=   1.3s\n",
      "[CV] END criterion=entropy, max_depth=150, max_features=sqrt, min_samples_leaf=4, min_samples_split=5, n_estimators=600; total time=   1.3s\n",
      "[CV] END criterion=gini, max_depth=72, max_features=sqrt, min_samples_leaf=2, min_samples_split=10, n_estimators=800; total time=   1.6s\n",
      "[CV] END criterion=gini, max_depth=72, max_features=sqrt, min_samples_leaf=2, min_samples_split=10, n_estimators=800; total time=   1.7s\n",
      "[CV] END criterion=entropy, max_depth=56, max_features=log2, min_samples_leaf=6, min_samples_split=5, n_estimators=600; total time=   1.3s\n"
     ]
    },
    {
     "name": "stdout",
     "output_type": "stream",
     "text": [
      "[CV] END criterion=entropy, max_depth=56, max_features=log2, min_samples_leaf=6, min_samples_split=5, n_estimators=600; total time=   1.3s\n",
      "[CV] END criterion=entropy, max_depth=103, max_features=sqrt, min_samples_leaf=8, min_samples_split=10, n_estimators=800; total time=   1.7s\n",
      "[CV] END criterion=entropy, max_depth=103, max_features=sqrt, min_samples_leaf=8, min_samples_split=10, n_estimators=800; total time=   1.7s\n",
      "[CV] END criterion=entropy, max_depth=72, max_features=sqrt, min_samples_leaf=2, min_samples_split=10, n_estimators=800; total time=   2.1s\n",
      "[CV] END criterion=entropy, max_depth=72, max_features=sqrt, min_samples_leaf=2, min_samples_split=10, n_estimators=800; total time=   1.7s\n",
      "[CV] END criterion=gini, max_depth=10, max_features=auto, min_samples_leaf=4, min_samples_split=2, n_estimators=200; total time=   0.3s\n",
      "[CV] END criterion=gini, max_depth=10, max_features=auto, min_samples_leaf=4, min_samples_split=2, n_estimators=200; total time=   0.3s\n",
      "[CV] END criterion=gini, max_depth=118, max_features=log2, min_samples_leaf=6, min_samples_split=5, n_estimators=400; total time=   0.8s\n",
      "[CV] END criterion=gini, max_depth=118, max_features=log2, min_samples_leaf=6, min_samples_split=5, n_estimators=400; total time=   0.8s\n",
      "[CV] END criterion=gini, max_depth=56, max_features=sqrt, min_samples_leaf=1, min_samples_split=2, n_estimators=1000; total time=   2.3s\n",
      "[CV] END criterion=gini, max_depth=56, max_features=sqrt, min_samples_leaf=1, min_samples_split=2, n_estimators=1000; total time=   2.1s\n",
      "[CV] END criterion=gini, max_depth=134, max_features=sqrt, min_samples_leaf=2, min_samples_split=5, n_estimators=200; total time=   0.3s\n",
      "[CV] END criterion=gini, max_depth=134, max_features=sqrt, min_samples_leaf=2, min_samples_split=5, n_estimators=200; total time=   0.4s\n",
      "[CV] END criterion=gini, max_depth=72, max_features=auto, min_samples_leaf=8, min_samples_split=2, n_estimators=400; total time=   0.7s\n",
      "[CV] END criterion=gini, max_depth=72, max_features=auto, min_samples_leaf=8, min_samples_split=2, n_estimators=400; total time=   0.8s\n",
      "[CV] END criterion=entropy, max_depth=150, max_features=auto, min_samples_leaf=2, min_samples_split=5, n_estimators=1000; total time=   2.4s\n",
      "[CV] END criterion=entropy, max_depth=150, max_features=auto, min_samples_leaf=2, min_samples_split=5, n_estimators=1000; total time=   2.3s\n",
      "[CV] END criterion=entropy, max_depth=25, max_features=log2, min_samples_leaf=2, min_samples_split=14, n_estimators=600; total time=   1.3s\n",
      "[CV] END criterion=entropy, max_depth=25, max_features=log2, min_samples_leaf=2, min_samples_split=14, n_estimators=600; total time=   1.5s\n",
      "[CV] END criterion=gini, max_depth=118, max_features=auto, min_samples_leaf=2, min_samples_split=10, n_estimators=200; total time=   0.3s\n",
      "[CV] END criterion=gini, max_depth=118, max_features=auto, min_samples_leaf=2, min_samples_split=10, n_estimators=200; total time=   0.3s\n",
      "[CV] END criterion=entropy, max_depth=56, max_features=log2, min_samples_leaf=6, min_samples_split=5, n_estimators=200; total time=   0.4s\n",
      "[CV] END criterion=entropy, max_depth=56, max_features=log2, min_samples_leaf=6, min_samples_split=5, n_estimators=200; total time=   0.3s\n",
      "[CV] END criterion=gini, max_depth=87, max_features=log2, min_samples_leaf=2, min_samples_split=2, n_estimators=200; total time=   0.4s\n",
      "[CV] END criterion=gini, max_depth=87, max_features=log2, min_samples_leaf=2, min_samples_split=2, n_estimators=200; total time=   0.5s\n",
      "[CV] END criterion=gini, max_depth=56, max_features=auto, min_samples_leaf=1, min_samples_split=2, n_estimators=600; total time=   1.2s\n",
      "[CV] END criterion=gini, max_depth=56, max_features=auto, min_samples_leaf=1, min_samples_split=2, n_estimators=600; total time=   1.2s\n",
      "[CV] END criterion=entropy, max_depth=56, max_features=sqrt, min_samples_leaf=8, min_samples_split=10, n_estimators=1000; total time=   2.2s\n",
      "[CV] END criterion=entropy, max_depth=56, max_features=sqrt, min_samples_leaf=8, min_samples_split=10, n_estimators=1000; total time=   2.2s\n",
      "[CV] END criterion=gini, max_depth=72, max_features=sqrt, min_samples_leaf=8, min_samples_split=10, n_estimators=1000; total time=   2.2s\n",
      "[CV] END criterion=gini, max_depth=72, max_features=sqrt, min_samples_leaf=8, min_samples_split=10, n_estimators=1000; total time=   2.3s\n",
      "[CV] END criterion=entropy, max_depth=118, max_features=auto, min_samples_leaf=4, min_samples_split=10, n_estimators=200; total time=   0.4s\n",
      "[CV] END criterion=entropy, max_depth=118, max_features=auto, min_samples_leaf=4, min_samples_split=10, n_estimators=200; total time=   0.4s\n",
      "[CV] END criterion=entropy, max_depth=134, max_features=auto, min_samples_leaf=1, min_samples_split=14, n_estimators=800; total time=   1.8s\n",
      "[CV] END criterion=entropy, max_depth=134, max_features=auto, min_samples_leaf=1, min_samples_split=14, n_estimators=800; total time=   1.8s\n",
      "[CV] END criterion=entropy, max_depth=87, max_features=auto, min_samples_leaf=1, min_samples_split=2, n_estimators=600; total time=   1.3s\n",
      "[CV] END criterion=entropy, max_depth=87, max_features=auto, min_samples_leaf=1, min_samples_split=2, n_estimators=600; total time=   1.4s\n",
      "[CV] END criterion=gini, max_depth=56, max_features=auto, min_samples_leaf=2, min_samples_split=10, n_estimators=200; total time=   0.4s\n",
      "[CV] END criterion=gini, max_depth=56, max_features=auto, min_samples_leaf=2, min_samples_split=10, n_estimators=200; total time=   0.3s\n",
      "[CV] END criterion=entropy, max_depth=103, max_features=log2, min_samples_leaf=1, min_samples_split=10, n_estimators=1000; total time=   2.5s\n",
      "[CV] END criterion=entropy, max_depth=103, max_features=log2, min_samples_leaf=1, min_samples_split=10, n_estimators=1000; total time=   2.5s\n",
      "[CV] END criterion=entropy, max_depth=41, max_features=log2, min_samples_leaf=1, min_samples_split=5, n_estimators=400; total time=   0.9s\n",
      "[CV] END criterion=entropy, max_depth=41, max_features=log2, min_samples_leaf=1, min_samples_split=5, n_estimators=400; total time=   0.9s\n",
      "[CV] END criterion=gini, max_depth=87, max_features=sqrt, min_samples_leaf=6, min_samples_split=2, n_estimators=200; total time=   0.3s\n",
      "[CV] END criterion=gini, max_depth=87, max_features=sqrt, min_samples_leaf=6, min_samples_split=2, n_estimators=200; total time=   0.5s\n",
      "[CV] END criterion=gini, max_depth=56, max_features=auto, min_samples_leaf=1, min_samples_split=10, n_estimators=400; total time=   1.0s\n",
      "[CV] END criterion=gini, max_depth=56, max_features=auto, min_samples_leaf=1, min_samples_split=10, n_estimators=400; total time=   0.8s\n",
      "[CV] END criterion=entropy, max_depth=87, max_features=log2, min_samples_leaf=4, min_samples_split=2, n_estimators=600; total time=   1.5s\n",
      "[CV] END criterion=entropy, max_depth=87, max_features=log2, min_samples_leaf=4, min_samples_split=2, n_estimators=600; total time=   1.4s\n",
      "[CV] END criterion=entropy, max_depth=10, max_features=log2, min_samples_leaf=8, min_samples_split=2, n_estimators=1000; total time=   2.1s\n",
      "[CV] END criterion=entropy, max_depth=10, max_features=log2, min_samples_leaf=8, min_samples_split=2, n_estimators=1000; total time=   2.1s\n",
      "[CV] END criterion=entropy, max_depth=25, max_features=log2, min_samples_leaf=1, min_samples_split=2, n_estimators=600; total time=   1.3s\n",
      "[CV] END criterion=entropy, max_depth=25, max_features=log2, min_samples_leaf=1, min_samples_split=2, n_estimators=600; total time=   1.4s\n",
      "[CV] END criterion=gini, max_depth=87, max_features=sqrt, min_samples_leaf=4, min_samples_split=2, n_estimators=800; total time=   1.5s\n",
      "[CV] END criterion=gini, max_depth=87, max_features=sqrt, min_samples_leaf=4, min_samples_split=2, n_estimators=800; total time=   1.7s\n",
      "[CV] END criterion=entropy, max_depth=134, max_features=sqrt, min_samples_leaf=6, min_samples_split=5, n_estimators=1000; total time=   2.1s\n",
      "[CV] END criterion=entropy, max_depth=134, max_features=sqrt, min_samples_leaf=6, min_samples_split=5, n_estimators=1000; total time=   2.1s\n",
      "[CV] END criterion=gini, max_depth=41, max_features=sqrt, min_samples_leaf=4, min_samples_split=5, n_estimators=200; total time=   0.4s\n",
      "[CV] END criterion=gini, max_depth=41, max_features=sqrt, min_samples_leaf=4, min_samples_split=5, n_estimators=200; total time=   0.4s\n",
      "[CV] END criterion=entropy, max_depth=41, max_features=auto, min_samples_leaf=1, min_samples_split=14, n_estimators=1000; total time=   2.2s\n"
     ]
    },
    {
     "name": "stdout",
     "output_type": "stream",
     "text": [
      "[CV] END criterion=entropy, max_depth=41, max_features=auto, min_samples_leaf=1, min_samples_split=14, n_estimators=1000; total time=   2.5s\n",
      "[CV] END criterion=gini, max_depth=103, max_features=log2, min_samples_leaf=1, min_samples_split=14, n_estimators=600; total time=   1.3s\n",
      "[CV] END criterion=gini, max_depth=103, max_features=log2, min_samples_leaf=1, min_samples_split=14, n_estimators=600; total time=   1.1s\n",
      "[CV] END criterion=gini, max_depth=87, max_features=sqrt, min_samples_leaf=4, min_samples_split=2, n_estimators=200; total time=   0.3s\n",
      "[CV] END criterion=gini, max_depth=87, max_features=sqrt, min_samples_leaf=4, min_samples_split=2, n_estimators=200; total time=   0.3s\n",
      "[CV] END criterion=entropy, max_depth=41, max_features=log2, min_samples_leaf=4, min_samples_split=2, n_estimators=200; total time=   0.3s\n",
      "[CV] END criterion=entropy, max_depth=41, max_features=log2, min_samples_leaf=4, min_samples_split=2, n_estimators=200; total time=   0.3s\n",
      "[CV] END criterion=entropy, max_depth=118, max_features=auto, min_samples_leaf=2, min_samples_split=2, n_estimators=1000; total time=   2.4s\n",
      "[CV] END criterion=entropy, max_depth=118, max_features=auto, min_samples_leaf=2, min_samples_split=2, n_estimators=1000; total time=   2.3s\n",
      "[CV] END criterion=gini, max_depth=103, max_features=log2, min_samples_leaf=4, min_samples_split=2, n_estimators=600; total time=   1.2s\n",
      "[CV] END criterion=gini, max_depth=103, max_features=log2, min_samples_leaf=4, min_samples_split=2, n_estimators=600; total time=   1.2s\n",
      "[CV] END criterion=entropy, max_depth=25, max_features=auto, min_samples_leaf=1, min_samples_split=5, n_estimators=1000; total time=   2.2s\n",
      "[CV] END criterion=entropy, max_depth=25, max_features=auto, min_samples_leaf=1, min_samples_split=5, n_estimators=1000; total time=   2.3s\n",
      "[CV] END criterion=gini, max_depth=25, max_features=sqrt, min_samples_leaf=8, min_samples_split=14, n_estimators=1000; total time=   1.9s\n",
      "[CV] END criterion=gini, max_depth=25, max_features=sqrt, min_samples_leaf=8, min_samples_split=14, n_estimators=1000; total time=   2.0s\n",
      "[CV] END criterion=gini, max_depth=134, max_features=sqrt, min_samples_leaf=4, min_samples_split=14, n_estimators=600; total time=   1.5s\n",
      "[CV] END criterion=gini, max_depth=134, max_features=sqrt, min_samples_leaf=4, min_samples_split=14, n_estimators=600; total time=   1.3s\n",
      "[CV] END criterion=entropy, max_depth=134, max_features=log2, min_samples_leaf=6, min_samples_split=14, n_estimators=400; total time=   0.8s\n",
      "[CV] END criterion=entropy, max_depth=134, max_features=log2, min_samples_leaf=6, min_samples_split=14, n_estimators=400; total time=   0.8s\n",
      "[CV] END criterion=entropy, max_depth=118, max_features=auto, min_samples_leaf=6, min_samples_split=5, n_estimators=200; total time=   0.4s\n",
      "[CV] END criterion=entropy, max_depth=118, max_features=auto, min_samples_leaf=6, min_samples_split=5, n_estimators=200; total time=   0.4s\n"
     ]
    },
    {
     "data": {
      "text/plain": [
       "RandomizedSearchCV(cv=2, estimator=RandomForestClassifier(), n_iter=100,\n",
       "                   param_distributions={'criterion': ['entropy', 'gini'],\n",
       "                                        'max_depth': [10, 25, 41, 56, 72, 87,\n",
       "                                                      103, 118, 134, 150],\n",
       "                                        'max_features': ['auto', 'sqrt',\n",
       "                                                         'log2'],\n",
       "                                        'min_samples_leaf': [1, 2, 4, 6, 8],\n",
       "                                        'min_samples_split': [2, 5, 10, 14],\n",
       "                                        'n_estimators': [200, 400, 600, 800,\n",
       "                                                         1000]},\n",
       "                   verbose=2)"
      ]
     },
     "execution_count": 10,
     "metadata": {},
     "output_type": "execute_result"
    }
   ],
   "source": [
    "rf_randomcv = RandomizedSearchCV(estimator=rf, param_distributions=params, n_iter=100, cv=2, verbose=2, refit=True)\n",
    "\n",
    "rf_randomcv.fit(x_train, y_train)"
   ]
  },
  {
   "cell_type": "code",
   "execution_count": 11,
   "id": "097e4f45",
   "metadata": {},
   "outputs": [
    {
     "data": {
      "text/plain": [
       "{'n_estimators': 200,\n",
       " 'min_samples_split': 10,\n",
       " 'min_samples_leaf': 4,\n",
       " 'max_features': 'auto',\n",
       " 'max_depth': 118,\n",
       " 'criterion': 'entropy'}"
      ]
     },
     "execution_count": 11,
     "metadata": {},
     "output_type": "execute_result"
    }
   ],
   "source": [
    "rf_randomcv.best_params_"
   ]
  },
  {
   "cell_type": "code",
   "execution_count": 12,
   "id": "a2440d6b",
   "metadata": {},
   "outputs": [],
   "source": [
    "y_pred = rf_randomcv.predict(x_test)"
   ]
  },
  {
   "cell_type": "markdown",
   "id": "54098a3d",
   "metadata": {},
   "source": [
    "## Evaluation of RandomSearchCV"
   ]
  },
  {
   "cell_type": "code",
   "execution_count": 13,
   "id": "1def88d0",
   "metadata": {},
   "outputs": [
    {
     "data": {
      "text/plain": [
       "0.7662337662337663"
      ]
     },
     "execution_count": 13,
     "metadata": {},
     "output_type": "execute_result"
    }
   ],
   "source": [
    "rf_randomcv.score(x_test, y_test)"
   ]
  },
  {
   "cell_type": "code",
   "execution_count": 14,
   "id": "c14ede54",
   "metadata": {},
   "outputs": [
    {
     "data": {
      "text/plain": [
       "array([[87, 12],\n",
       "       [24, 31]], dtype=int64)"
      ]
     },
     "execution_count": 14,
     "metadata": {},
     "output_type": "execute_result"
    }
   ],
   "source": [
    "confusion_matrix(y_test, y_pred)"
   ]
  },
  {
   "cell_type": "code",
   "execution_count": 15,
   "id": "94216c58",
   "metadata": {},
   "outputs": [
    {
     "name": "stdout",
     "output_type": "stream",
     "text": [
      "              precision    recall  f1-score   support\n",
      "\n",
      "           0       0.78      0.88      0.83        99\n",
      "           1       0.72      0.56      0.63        55\n",
      "\n",
      "    accuracy                           0.77       154\n",
      "   macro avg       0.75      0.72      0.73       154\n",
      "weighted avg       0.76      0.77      0.76       154\n",
      "\n"
     ]
    }
   ],
   "source": [
    "cf = classification_report(y_test, y_pred)\n",
    "print(cf)"
   ]
  },
  {
   "cell_type": "markdown",
   "id": "3540426d",
   "metadata": {},
   "source": [
    "## 2. GridSearchCV \n",
    "\n",
    "- RandomSearchCV gives the best values by randomly selecting the parameters, so we Search the parameters throughly using GridSearchCV.\n",
    "\n",
    "- The List of paramters is given which areclose to the best parameters obtained from RandomSearchCV \n",
    "\n",
    "- We don't have number of iteration parameter in GridSearchcv as it Thoroughly checks all th possible permutations and combinations.\n",
    "\n",
    "- **`param_distributions`** is replaced with **`param_grid`**\n",
    "\n",
    "### Parameters in GridSearchcv()\n",
    "------------------------------------------------------\n",
    "1. **`estimator`** = name of model forwhich we perform tuning.\n",
    "\n",
    "2. **`param_grid`** = dictionary of parameters as key and list of respective parameters as value is given from which best values of parameters are found.\n",
    "\n",
    "\n",
    "4. **`cv`** - Number of cross validation are the number of times train test split taken place sequentially.\n",
    "\n",
    "5. **`verbose`**- It gives the displayed logs.\n",
    "\n",
    "6. **`random_state`** - seed for randomising and creating the same permutations and combinations again.\n",
    "\n",
    "7. **`n_jobs`** - How many cores of machine to use for calculations. (-1 implies maximum cores) \n",
    "\n",
    "\n",
    "**No of fits = (Summation of Number of Elements in every parameters list)* CV**\n"
   ]
  },
  {
   "cell_type": "code",
   "execution_count": 16,
   "id": "00bd3950",
   "metadata": {},
   "outputs": [
    {
     "name": "stdout",
     "output_type": "stream",
     "text": [
      "{'criterion': ['entropy'], 'max_depth': [118], 'max_features': ['auto'], 'min_samples_leaf': [4, 6, 8], 'min_samples_split': [8, 9, 10, 11, 12], 'n_estimators': [0, 100, 200, 300, 400]}\n"
     ]
    }
   ],
   "source": [
    "from sklearn.model_selection import GridSearchCV\n",
    "\n",
    "para = rf_randomcv.best_params_\n",
    "\n",
    "param_grid = {\n",
    "    'criterion': [para['criterion']],\n",
    "    \n",
    "    'max_depth': [para['max_depth']],\n",
    "    \n",
    "    'max_features': [para['max_features']],\n",
    "    \n",
    "    'min_samples_leaf': [para['min_samples_leaf'], \n",
    "                         para['min_samples_leaf']+2, \n",
    "                         para['min_samples_leaf'] + 4],\n",
    "    \n",
    "    'min_samples_split': [para['min_samples_split'] - 2,\n",
    "                          para['min_samples_split'] - 1,\n",
    "                          para['min_samples_split'], \n",
    "                          para['min_samples_split'] +1,\n",
    "                          para['min_samples_split'] + 2],\n",
    "    \n",
    "    'n_estimators': [para['n_estimators'] - 200,\n",
    "                     para['n_estimators'] - 100, \n",
    "                     para['n_estimators'], \n",
    "                     para['n_estimators'] + 100, \n",
    "                     para['n_estimators'] + 200]\n",
    "}\n",
    "print(param_grid)"
   ]
  },
  {
   "cell_type": "code",
   "execution_count": 17,
   "id": "bae5780c",
   "metadata": {},
   "outputs": [
    {
     "name": "stdout",
     "output_type": "stream",
     "text": [
      "Fitting 10 folds for each of 75 candidates, totalling 750 fits\n"
     ]
    },
    {
     "data": {
      "text/plain": [
       "GridSearchCV(cv=10, estimator=RandomForestClassifier(), n_jobs=-1,\n",
       "             param_grid={'criterion': ['entropy'], 'max_depth': [118],\n",
       "                         'max_features': ['auto'],\n",
       "                         'min_samples_leaf': [4, 6, 8],\n",
       "                         'min_samples_split': [8, 9, 10, 11, 12],\n",
       "                         'n_estimators': [0, 100, 200, 300, 400]},\n",
       "             verbose=2)"
      ]
     },
     "execution_count": 17,
     "metadata": {},
     "output_type": "execute_result"
    }
   ],
   "source": [
    "rf = RandomForestClassifier()\n",
    "\n",
    "rf_gridcv = GridSearchCV(estimator = rf, param_grid= param_grid, cv=10, n_jobs=-1, verbose=2, refit=True)\n",
    "\n",
    "rf_gridcv.fit(x_train, y_train)"
   ]
  },
  {
   "cell_type": "code",
   "execution_count": 18,
   "id": "5c3b02e2",
   "metadata": {},
   "outputs": [],
   "source": [
    "y_pred = rf_gridcv.predict(x_test)"
   ]
  },
  {
   "cell_type": "code",
   "execution_count": 19,
   "id": "e5d9af98",
   "metadata": {},
   "outputs": [
    {
     "data": {
      "text/plain": [
       "{'criterion': 'entropy',\n",
       " 'max_depth': 118,\n",
       " 'max_features': 'auto',\n",
       " 'min_samples_leaf': 4,\n",
       " 'min_samples_split': 12,\n",
       " 'n_estimators': 100}"
      ]
     },
     "execution_count": 19,
     "metadata": {},
     "output_type": "execute_result"
    }
   ],
   "source": [
    "rf_gridcv.best_params_"
   ]
  },
  {
   "cell_type": "markdown",
   "id": "378734f4",
   "metadata": {},
   "source": [
    "## Evaluation of GridSearchCV Model"
   ]
  },
  {
   "cell_type": "code",
   "execution_count": 20,
   "id": "2515ab95",
   "metadata": {},
   "outputs": [
    {
     "data": {
      "text/plain": [
       "0.9234527687296417"
      ]
     },
     "execution_count": 20,
     "metadata": {},
     "output_type": "execute_result"
    }
   ],
   "source": [
    "rf_gridcv.score(x_train, y_train)"
   ]
  },
  {
   "cell_type": "code",
   "execution_count": 21,
   "id": "7ca938af",
   "metadata": {},
   "outputs": [
    {
     "data": {
      "text/plain": [
       "array([[85, 14],\n",
       "       [23, 32]], dtype=int64)"
      ]
     },
     "execution_count": 21,
     "metadata": {},
     "output_type": "execute_result"
    }
   ],
   "source": [
    "confusion_matrix(y_test, y_pred)"
   ]
  },
  {
   "cell_type": "code",
   "execution_count": 22,
   "id": "6ca05cfa",
   "metadata": {},
   "outputs": [
    {
     "name": "stdout",
     "output_type": "stream",
     "text": [
      "              precision    recall  f1-score   support\n",
      "\n",
      "           0       0.79      0.86      0.82        99\n",
      "           1       0.70      0.58      0.63        55\n",
      "\n",
      "    accuracy                           0.76       154\n",
      "   macro avg       0.74      0.72      0.73       154\n",
      "weighted avg       0.75      0.76      0.75       154\n",
      "\n"
     ]
    }
   ],
   "source": [
    "cf = classification_report(y_test, y_pred)\n",
    "print(cf)"
   ]
  },
  {
   "cell_type": "code",
   "execution_count": null,
   "id": "65662988",
   "metadata": {},
   "outputs": [],
   "source": []
  }
 ],
 "metadata": {
  "kernelspec": {
   "display_name": "Python 3 (ipykernel)",
   "language": "python",
   "name": "python3"
  },
  "language_info": {
   "codemirror_mode": {
    "name": "ipython",
    "version": 3
   },
   "file_extension": ".py",
   "mimetype": "text/x-python",
   "name": "python",
   "nbconvert_exporter": "python",
   "pygments_lexer": "ipython3",
   "version": "3.10.0"
  }
 },
 "nbformat": 4,
 "nbformat_minor": 5
}
