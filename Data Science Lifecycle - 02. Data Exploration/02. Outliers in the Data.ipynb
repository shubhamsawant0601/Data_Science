{
 "cells": [
  {
   "cell_type": "markdown",
   "id": "66a810af",
   "metadata": {},
   "source": [
    "# Outliers\n",
    "\n",
    "- Many machine learning algorithms are sensitive to the range and distribution of attribute values in the input data.\n",
    "\n",
    "- Outliers in input data can skew and mislead the training process of machine learning algorithms resulting in longer training times, less accurate models and ultimately poorer results.\n",
    "\n",
    "## Algorithms which are effected by outliers\n",
    "\n",
    "### Algorithms which are not effected by Outliers-\n",
    "1. Naive Bayes\n",
    "2. SVM\n",
    "3. DecisionTree Classifier and Regressor\n",
    "4. Ensemble Techniques\n",
    "5. KNN\n",
    "\n",
    "### Algorithms which are  effected by Outliers-\n",
    "1. Linear Regression\n",
    "2. Logistic Regression\n",
    "3. KMeans\n",
    "4. Hierarchial Clustering\n",
    "5. PCA\n",
    "6. Neural Networks\n",
    "\n",
    "### Wheather should we keep or remove outliers - \n",
    "1. outliers in case of credit card dataset may be because of fraudelent activities so it should be kept.\n"
   ]
  },
  {
   "cell_type": "code",
   "execution_count": 2,
   "id": "abf8c714",
   "metadata": {},
   "outputs": [
    {
     "data": {
      "text/html": [
       "<div>\n",
       "<style scoped>\n",
       "    .dataframe tbody tr th:only-of-type {\n",
       "        vertical-align: middle;\n",
       "    }\n",
       "\n",
       "    .dataframe tbody tr th {\n",
       "        vertical-align: top;\n",
       "    }\n",
       "\n",
       "    .dataframe thead th {\n",
       "        text-align: right;\n",
       "    }\n",
       "</style>\n",
       "<table border=\"1\" class=\"dataframe\">\n",
       "  <thead>\n",
       "    <tr style=\"text-align: right;\">\n",
       "      <th></th>\n",
       "      <th>PassengerId</th>\n",
       "      <th>Survived</th>\n",
       "      <th>Pclass</th>\n",
       "      <th>Name</th>\n",
       "      <th>Sex</th>\n",
       "      <th>Age</th>\n",
       "      <th>SibSp</th>\n",
       "      <th>Parch</th>\n",
       "      <th>Ticket</th>\n",
       "      <th>Fare</th>\n",
       "      <th>Cabin</th>\n",
       "      <th>Embarked</th>\n",
       "    </tr>\n",
       "  </thead>\n",
       "  <tbody>\n",
       "    <tr>\n",
       "      <th>0</th>\n",
       "      <td>1</td>\n",
       "      <td>0</td>\n",
       "      <td>3</td>\n",
       "      <td>Braund, Mr. Owen Harris</td>\n",
       "      <td>male</td>\n",
       "      <td>22.0</td>\n",
       "      <td>1</td>\n",
       "      <td>0</td>\n",
       "      <td>A/5 21171</td>\n",
       "      <td>7.2500</td>\n",
       "      <td>NaN</td>\n",
       "      <td>S</td>\n",
       "    </tr>\n",
       "    <tr>\n",
       "      <th>1</th>\n",
       "      <td>2</td>\n",
       "      <td>1</td>\n",
       "      <td>1</td>\n",
       "      <td>Cumings, Mrs. John Bradley (Florence Briggs Th...</td>\n",
       "      <td>female</td>\n",
       "      <td>38.0</td>\n",
       "      <td>1</td>\n",
       "      <td>0</td>\n",
       "      <td>PC 17599</td>\n",
       "      <td>71.2833</td>\n",
       "      <td>C85</td>\n",
       "      <td>C</td>\n",
       "    </tr>\n",
       "    <tr>\n",
       "      <th>2</th>\n",
       "      <td>3</td>\n",
       "      <td>1</td>\n",
       "      <td>3</td>\n",
       "      <td>Heikkinen, Miss. Laina</td>\n",
       "      <td>female</td>\n",
       "      <td>26.0</td>\n",
       "      <td>0</td>\n",
       "      <td>0</td>\n",
       "      <td>STON/O2. 3101282</td>\n",
       "      <td>7.9250</td>\n",
       "      <td>NaN</td>\n",
       "      <td>S</td>\n",
       "    </tr>\n",
       "  </tbody>\n",
       "</table>\n",
       "</div>"
      ],
      "text/plain": [
       "   PassengerId  Survived  Pclass  \\\n",
       "0            1         0       3   \n",
       "1            2         1       1   \n",
       "2            3         1       3   \n",
       "\n",
       "                                                Name     Sex   Age  SibSp  \\\n",
       "0                            Braund, Mr. Owen Harris    male  22.0      1   \n",
       "1  Cumings, Mrs. John Bradley (Florence Briggs Th...  female  38.0      1   \n",
       "2                             Heikkinen, Miss. Laina  female  26.0      0   \n",
       "\n",
       "   Parch            Ticket     Fare Cabin Embarked  \n",
       "0      0         A/5 21171   7.2500   NaN        S  \n",
       "1      0          PC 17599  71.2833   C85        C  \n",
       "2      0  STON/O2. 3101282   7.9250   NaN        S  "
      ]
     },
     "execution_count": 2,
     "metadata": {},
     "output_type": "execute_result"
    }
   ],
   "source": [
    "# Importing Libraries for ML\n",
    "\n",
    "import numpy as np\n",
    "import pandas as pd\n",
    "import matplotlib.pyplot as plt\n",
    "import seaborn as sns\n",
    "\n",
    "from sklearn.model_selection import train_test_split, GridSearchCV\n",
    "from sklearn.metrics import accuracy_score, classification_report, confusion_matrix\n",
    "\n",
    "import warnings\n",
    "warnings.filterwarnings(\"ignore\")\n",
    "\n",
    "# Importing Data\n",
    "\n",
    "df = pd.read_csv('C:/Users/Shubham/Documents/Data Science/Notebooks/00. Data_Store/titanic.csv')\n",
    "df.head(3)\n"
   ]
  },
  {
   "cell_type": "code",
   "execution_count": 3,
   "id": "1e6091b8",
   "metadata": {},
   "outputs": [
    {
     "data": {
      "text/plain": [
       "177"
      ]
     },
     "execution_count": 3,
     "metadata": {},
     "output_type": "execute_result"
    }
   ],
   "source": [
    "df[\"Age\"].isnull().sum()"
   ]
  },
  {
   "cell_type": "markdown",
   "id": "f2360763",
   "metadata": {},
   "source": [
    "### See the difference before and after adding some outliers in distplot, as their is no outliers initially we add outliers at null values to see the difference\n"
   ]
  },
  {
   "cell_type": "code",
   "execution_count": 5,
   "id": "a181b747",
   "metadata": {},
   "outputs": [
    {
     "data": {
      "text/plain": [
       "<AxesSubplot:xlabel='Age', ylabel='Density'>"
      ]
     },
     "execution_count": 5,
     "metadata": {},
     "output_type": "execute_result"
    },
    {
     "data": {
      "image/png": "[encoded data removed]",
      "text/plain": [
       "<Figure size 432x288 with 1 Axes>"
      ]
     },
     "metadata": {
      "needs_background": "light"
     },
     "output_type": "display_data"
    }
   ],
   "source": [
    "sns.distplot(df[\"Age\"].dropna())"
   ]
  },
  {
   "cell_type": "code",
   "execution_count": 6,
   "id": "650654c1",
   "metadata": {},
   "outputs": [
    {
     "data": {
      "text/plain": [
       "<AxesSubplot:xlabel='Age', ylabel='Density'>"
      ]
     },
     "execution_count": 6,
     "metadata": {},
     "output_type": "execute_result"
    },
    {
     "data": {
      "image/png": "[encoded data removed]",
      "text/plain": [
       "<Figure size 432x288 with 1 Axes>"
      ]
     },
     "metadata": {
      "needs_background": "light"
     },
     "output_type": "display_data"
    }
   ],
   "source": [
    "sns.distplot(df[\"Age\"].fillna(100))"
   ]
  },
  {
   "cell_type": "markdown",
   "id": "8464e174",
   "metadata": {},
   "source": [
    "# 1. Outliers in Gaussian distribution/ Normal distribution"
   ]
  },
  {
   "cell_type": "code",
   "execution_count": 7,
   "id": "90c0fe9f",
   "metadata": {},
   "outputs": [
    {
     "data": {
      "image/png": "[encoded data removed]",
      "text/plain": [
       "<Figure size 432x288 with 1 Axes>"
      ]
     },
     "metadata": {
      "needs_background": "light"
     },
     "output_type": "display_data"
    }
   ],
   "source": [
    "figure=df.boxplot(column=\"Age\")"
   ]
  },
  {
   "cell_type": "code",
   "execution_count": 8,
   "id": "017dd8d6",
   "metadata": {},
   "outputs": [
    {
     "data": {
      "text/plain": [
       "count    714.000000\n",
       "mean      29.699118\n",
       "std       14.526497\n",
       "min        0.420000\n",
       "25%       20.125000\n",
       "50%       28.000000\n",
       "75%       38.000000\n",
       "max       80.000000\n",
       "Name: Age, dtype: float64"
      ]
     },
     "execution_count": 8,
     "metadata": {},
     "output_type": "execute_result"
    }
   ],
   "source": [
    "df[\"Age\"].describe()"
   ]
  },
  {
   "attachments": {
    "image.png": {
     "image/png": "[encoded data removed]"
    }
   },
   "cell_type": "markdown",
   "id": "21f40c1a",
   "metadata": {},
   "source": [
    "### Assuming Age follows a Gaussian Distribution we will calculate the boundaries which differentiate the outliers \n",
    "\n",
    "### Gaussian distribution - \n",
    "According to gaussian ditribution the values that falls beyond the 3rd standerd deviation are considered as outliers. hence keeping this in mind we find the upper and lower boundaries are calculated as follows.\n",
    "Data that falls under distribution is 99.7 %\n",
    "\n",
    "![image.png](attachment:image.png)\n",
    "\n",
    "\n",
    "Anything that falls after these upper and lower bounds is a outliers"
   ]
  },
  {
   "cell_type": "code",
   "execution_count": 28,
   "id": "8496d35b",
   "metadata": {},
   "outputs": [
    {
     "name": "stdout",
     "output_type": "stream",
     "text": [
      "73.27860964406094\n",
      "-13.880374349943303\n",
      "29.69911764705882\n"
     ]
    }
   ],
   "source": [
    "upper_bound = df[\"Age\"].mean() + 3*df[\"Age\"].std()\n",
    "lower_bound = df[\"Age\"].mean() - 3*df[\"Age\"].std()\n",
    "\n",
    "print(upper_bound)\n",
    "print(lower_bound)\n",
    "print(df[\"Age\"].mean())"
   ]
  },
  {
   "cell_type": "markdown",
   "id": "a35eaa1a",
   "metadata": {},
   "source": [
    "\n",
    "---------------------------------------------------------------------------\n",
    "---------------------------------------------------------------------------\n",
    "# 2. Outliers in Skewed Data\n",
    "\n",
    "\n",
    "\n",
    "### Calculate Interquantile range (Difference between 75% and 25%) to get the boundaries\n",
    "\n",
    "After getting Interquantile range we can find out the **Outliers and Extreme Outliers** by using IQR value and multiplying factors 1.5 and 3 which is commonly used but generally depends upon domain of data."
   ]
  },
  {
   "cell_type": "code",
   "execution_count": 30,
   "id": "f38b3b28",
   "metadata": {},
   "outputs": [
    {
     "data": {
      "text/plain": [
       "23.0896"
      ]
     },
     "execution_count": 30,
     "metadata": {},
     "output_type": "execute_result"
    }
   ],
   "source": [
    "IQR = df[\"Fare\"].quantile(0.75)-df[\"Fare\"].quantile(0.25)\n",
    "IQR"
   ]
  },
  {
   "cell_type": "markdown",
   "id": "d242b4dd",
   "metadata": {},
   "source": [
    "## 1. Outliers"
   ]
  },
  {
   "cell_type": "code",
   "execution_count": 31,
   "id": "775ad6a9",
   "metadata": {},
   "outputs": [
    {
     "name": "stdout",
     "output_type": "stream",
     "text": [
      "65.6344\n",
      "-26.724\n"
     ]
    }
   ],
   "source": [
    "upper_bridge = df[\"Fare\"].quantile(0.75) + (IQR*1.5)\n",
    "lower_bridge = df[\"Fare\"].quantile(0.25) - (IQR*1.5)\n",
    "\n",
    "print(upper_bridge)\n",
    "print(lower_bridge)"
   ]
  },
  {
   "cell_type": "markdown",
   "id": "422b18d8",
   "metadata": {},
   "source": [
    "### From Above it is seen that any Age that falls beyond 64 is a outlier"
   ]
  },
  {
   "cell_type": "markdown",
   "id": "da775a82",
   "metadata": {},
   "source": [
    "## 2. Extreme Outliers"
   ]
  },
  {
   "cell_type": "code",
   "execution_count": 32,
   "id": "011146d8",
   "metadata": {},
   "outputs": [
    {
     "name": "stdout",
     "output_type": "stream",
     "text": [
      "100.2688\n",
      "-61.358399999999996\n"
     ]
    }
   ],
   "source": [
    "upper_bridge = df[\"Fare\"].quantile(0.75) + (IQR*3)\n",
    "lower_bridge = df[\"Fare\"].quantile(0.25) - (IQR*3)\n",
    "\n",
    "print(upper_bridge)\n",
    "print(lower_bridge)"
   ]
  },
  {
   "cell_type": "markdown",
   "id": "9138bf03",
   "metadata": {},
   "source": [
    "### From Above it is seen that any Age that falls beyond 91 is a outlier"
   ]
  },
  {
   "cell_type": "markdown",
   "id": "f8ef3548",
   "metadata": {},
   "source": [
    "\n",
    "\n",
    "In this data **Fare** data is skewed so we use that data for handling outliers in skewed dataset"
   ]
  },
  {
   "cell_type": "code",
   "execution_count": 33,
   "id": "e16d6543",
   "metadata": {},
   "outputs": [
    {
     "data": {
      "text/plain": [
       "count    891.000000\n",
       "mean      32.204208\n",
       "std       49.693429\n",
       "min        0.000000\n",
       "25%        7.910400\n",
       "50%       14.454200\n",
       "75%       31.000000\n",
       "max      512.329200\n",
       "Name: Fare, dtype: float64"
      ]
     },
     "execution_count": 33,
     "metadata": {},
     "output_type": "execute_result"
    }
   ],
   "source": [
    "df[\"Fare\"].describe()"
   ]
  },
  {
   "cell_type": "code",
   "execution_count": 34,
   "id": "843bc1c2",
   "metadata": {},
   "outputs": [
    {
     "data": {
      "image/png": "[encoded data removed]",
      "text/plain": [
       "<Figure size 432x288 with 1 Axes>"
      ]
     },
     "metadata": {
      "needs_background": "light"
     },
     "output_type": "display_data"
    }
   ],
   "source": [
    "figure=df.boxplot(column=\"Fare\")"
   ]
  },
  {
   "cell_type": "code",
   "execution_count": 35,
   "id": "f0f9e8e0",
   "metadata": {},
   "outputs": [
    {
     "data": {
      "text/plain": [
       "<AxesSubplot:xlabel='Fare', ylabel='Density'>"
      ]
     },
     "execution_count": 35,
     "metadata": {},
     "output_type": "execute_result"
    },
    {
     "data": {
      "image/png": "[encoded data removed]",
      "text/plain": [
       "<Figure size 432x288 with 1 Axes>"
      ]
     },
     "metadata": {
      "needs_background": "light"
     },
     "output_type": "display_data"
    }
   ],
   "source": [
    "sns.distplot(df[\"Fare\"])"
   ]
  },
  {
   "cell_type": "markdown",
   "id": "6e0ab170",
   "metadata": {},
   "source": [
    "# 3. Removing the Outliers"
   ]
  },
  {
   "cell_type": "code",
   "execution_count": 36,
   "id": "0a1d3834",
   "metadata": {},
   "outputs": [],
   "source": [
    "data = df.copy()"
   ]
  },
  {
   "cell_type": "code",
   "execution_count": 37,
   "id": "e3c2c02e",
   "metadata": {},
   "outputs": [],
   "source": [
    "data.loc[data[\"Age\"]>73, \"Age\"]=73"
   ]
  },
  {
   "cell_type": "code",
   "execution_count": 38,
   "id": "d583ef9c",
   "metadata": {},
   "outputs": [],
   "source": [
    "data.loc[data[\"Fare\"]>100, \"Fare\"]=100"
   ]
  },
  {
   "cell_type": "code",
   "execution_count": 39,
   "id": "5dd6dd4d",
   "metadata": {},
   "outputs": [
    {
     "data": {
      "text/html": [
       "<div>\n",
       "<style scoped>\n",
       "    .dataframe tbody tr th:only-of-type {\n",
       "        vertical-align: middle;\n",
       "    }\n",
       "\n",
       "    .dataframe tbody tr th {\n",
       "        vertical-align: top;\n",
       "    }\n",
       "\n",
       "    .dataframe thead th {\n",
       "        text-align: right;\n",
       "    }\n",
       "</style>\n",
       "<table border=\"1\" class=\"dataframe\">\n",
       "  <thead>\n",
       "    <tr style=\"text-align: right;\">\n",
       "      <th></th>\n",
       "      <th>PassengerId</th>\n",
       "      <th>Survived</th>\n",
       "      <th>Pclass</th>\n",
       "      <th>Name</th>\n",
       "      <th>Sex</th>\n",
       "      <th>Age</th>\n",
       "      <th>SibSp</th>\n",
       "      <th>Parch</th>\n",
       "      <th>Ticket</th>\n",
       "      <th>Fare</th>\n",
       "      <th>Cabin</th>\n",
       "      <th>Embarked</th>\n",
       "    </tr>\n",
       "  </thead>\n",
       "  <tbody>\n",
       "    <tr>\n",
       "      <th>0</th>\n",
       "      <td>1</td>\n",
       "      <td>0</td>\n",
       "      <td>3</td>\n",
       "      <td>Braund, Mr. Owen Harris</td>\n",
       "      <td>male</td>\n",
       "      <td>22.0</td>\n",
       "      <td>1</td>\n",
       "      <td>0</td>\n",
       "      <td>A/5 21171</td>\n",
       "      <td>7.2500</td>\n",
       "      <td>NaN</td>\n",
       "      <td>S</td>\n",
       "    </tr>\n",
       "    <tr>\n",
       "      <th>1</th>\n",
       "      <td>2</td>\n",
       "      <td>1</td>\n",
       "      <td>1</td>\n",
       "      <td>Cumings, Mrs. John Bradley (Florence Briggs Th...</td>\n",
       "      <td>female</td>\n",
       "      <td>38.0</td>\n",
       "      <td>1</td>\n",
       "      <td>0</td>\n",
       "      <td>PC 17599</td>\n",
       "      <td>71.2833</td>\n",
       "      <td>C85</td>\n",
       "      <td>C</td>\n",
       "    </tr>\n",
       "    <tr>\n",
       "      <th>2</th>\n",
       "      <td>3</td>\n",
       "      <td>1</td>\n",
       "      <td>3</td>\n",
       "      <td>Heikkinen, Miss. Laina</td>\n",
       "      <td>female</td>\n",
       "      <td>26.0</td>\n",
       "      <td>0</td>\n",
       "      <td>0</td>\n",
       "      <td>STON/O2. 3101282</td>\n",
       "      <td>7.9250</td>\n",
       "      <td>NaN</td>\n",
       "      <td>S</td>\n",
       "    </tr>\n",
       "    <tr>\n",
       "      <th>3</th>\n",
       "      <td>4</td>\n",
       "      <td>1</td>\n",
       "      <td>1</td>\n",
       "      <td>Futrelle, Mrs. Jacques Heath (Lily May Peel)</td>\n",
       "      <td>female</td>\n",
       "      <td>35.0</td>\n",
       "      <td>1</td>\n",
       "      <td>0</td>\n",
       "      <td>113803</td>\n",
       "      <td>53.1000</td>\n",
       "      <td>C123</td>\n",
       "      <td>S</td>\n",
       "    </tr>\n",
       "    <tr>\n",
       "      <th>4</th>\n",
       "      <td>5</td>\n",
       "      <td>0</td>\n",
       "      <td>3</td>\n",
       "      <td>Allen, Mr. William Henry</td>\n",
       "      <td>male</td>\n",
       "      <td>35.0</td>\n",
       "      <td>0</td>\n",
       "      <td>0</td>\n",
       "      <td>373450</td>\n",
       "      <td>8.0500</td>\n",
       "      <td>NaN</td>\n",
       "      <td>S</td>\n",
       "    </tr>\n",
       "    <tr>\n",
       "      <th>...</th>\n",
       "      <td>...</td>\n",
       "      <td>...</td>\n",
       "      <td>...</td>\n",
       "      <td>...</td>\n",
       "      <td>...</td>\n",
       "      <td>...</td>\n",
       "      <td>...</td>\n",
       "      <td>...</td>\n",
       "      <td>...</td>\n",
       "      <td>...</td>\n",
       "      <td>...</td>\n",
       "      <td>...</td>\n",
       "    </tr>\n",
       "    <tr>\n",
       "      <th>886</th>\n",
       "      <td>887</td>\n",
       "      <td>0</td>\n",
       "      <td>2</td>\n",
       "      <td>Montvila, Rev. Juozas</td>\n",
       "      <td>male</td>\n",
       "      <td>27.0</td>\n",
       "      <td>0</td>\n",
       "      <td>0</td>\n",
       "      <td>211536</td>\n",
       "      <td>13.0000</td>\n",
       "      <td>NaN</td>\n",
       "      <td>S</td>\n",
       "    </tr>\n",
       "    <tr>\n",
       "      <th>887</th>\n",
       "      <td>888</td>\n",
       "      <td>1</td>\n",
       "      <td>1</td>\n",
       "      <td>Graham, Miss. Margaret Edith</td>\n",
       "      <td>female</td>\n",
       "      <td>19.0</td>\n",
       "      <td>0</td>\n",
       "      <td>0</td>\n",
       "      <td>112053</td>\n",
       "      <td>30.0000</td>\n",
       "      <td>B42</td>\n",
       "      <td>S</td>\n",
       "    </tr>\n",
       "    <tr>\n",
       "      <th>888</th>\n",
       "      <td>889</td>\n",
       "      <td>0</td>\n",
       "      <td>3</td>\n",
       "      <td>Johnston, Miss. Catherine Helen \"Carrie\"</td>\n",
       "      <td>female</td>\n",
       "      <td>NaN</td>\n",
       "      <td>1</td>\n",
       "      <td>2</td>\n",
       "      <td>W./C. 6607</td>\n",
       "      <td>23.4500</td>\n",
       "      <td>NaN</td>\n",
       "      <td>S</td>\n",
       "    </tr>\n",
       "    <tr>\n",
       "      <th>889</th>\n",
       "      <td>890</td>\n",
       "      <td>1</td>\n",
       "      <td>1</td>\n",
       "      <td>Behr, Mr. Karl Howell</td>\n",
       "      <td>male</td>\n",
       "      <td>26.0</td>\n",
       "      <td>0</td>\n",
       "      <td>0</td>\n",
       "      <td>111369</td>\n",
       "      <td>30.0000</td>\n",
       "      <td>C148</td>\n",
       "      <td>C</td>\n",
       "    </tr>\n",
       "    <tr>\n",
       "      <th>890</th>\n",
       "      <td>891</td>\n",
       "      <td>0</td>\n",
       "      <td>3</td>\n",
       "      <td>Dooley, Mr. Patrick</td>\n",
       "      <td>male</td>\n",
       "      <td>32.0</td>\n",
       "      <td>0</td>\n",
       "      <td>0</td>\n",
       "      <td>370376</td>\n",
       "      <td>7.7500</td>\n",
       "      <td>NaN</td>\n",
       "      <td>Q</td>\n",
       "    </tr>\n",
       "  </tbody>\n",
       "</table>\n",
       "<p>891 rows × 12 columns</p>\n",
       "</div>"
      ],
      "text/plain": [
       "     PassengerId  Survived  Pclass  \\\n",
       "0              1         0       3   \n",
       "1              2         1       1   \n",
       "2              3         1       3   \n",
       "3              4         1       1   \n",
       "4              5         0       3   \n",
       "..           ...       ...     ...   \n",
       "886          887         0       2   \n",
       "887          888         1       1   \n",
       "888          889         0       3   \n",
       "889          890         1       1   \n",
       "890          891         0       3   \n",
       "\n",
       "                                                  Name     Sex   Age  SibSp  \\\n",
       "0                              Braund, Mr. Owen Harris    male  22.0      1   \n",
       "1    Cumings, Mrs. John Bradley (Florence Briggs Th...  female  38.0      1   \n",
       "2                               Heikkinen, Miss. Laina  female  26.0      0   \n",
       "3         Futrelle, Mrs. Jacques Heath (Lily May Peel)  female  35.0      1   \n",
       "4                             Allen, Mr. William Henry    male  35.0      0   \n",
       "..                                                 ...     ...   ...    ...   \n",
       "886                              Montvila, Rev. Juozas    male  27.0      0   \n",
       "887                       Graham, Miss. Margaret Edith  female  19.0      0   \n",
       "888           Johnston, Miss. Catherine Helen \"Carrie\"  female   NaN      1   \n",
       "889                              Behr, Mr. Karl Howell    male  26.0      0   \n",
       "890                                Dooley, Mr. Patrick    male  32.0      0   \n",
       "\n",
       "     Parch            Ticket     Fare Cabin Embarked  \n",
       "0        0         A/5 21171   7.2500   NaN        S  \n",
       "1        0          PC 17599  71.2833   C85        C  \n",
       "2        0  STON/O2. 3101282   7.9250   NaN        S  \n",
       "3        0            113803  53.1000  C123        S  \n",
       "4        0            373450   8.0500   NaN        S  \n",
       "..     ...               ...      ...   ...      ...  \n",
       "886      0            211536  13.0000   NaN        S  \n",
       "887      0            112053  30.0000   B42        S  \n",
       "888      2        W./C. 6607  23.4500   NaN        S  \n",
       "889      0            111369  30.0000  C148        C  \n",
       "890      0            370376   7.7500   NaN        Q  \n",
       "\n",
       "[891 rows x 12 columns]"
      ]
     },
     "execution_count": 39,
     "metadata": {},
     "output_type": "execute_result"
    }
   ],
   "source": [
    "data"
   ]
  },
  {
   "cell_type": "markdown",
   "id": "40f68ff2",
   "metadata": {},
   "source": [
    "# 1. Difference in Normal data after handling outliers"
   ]
  },
  {
   "cell_type": "code",
   "execution_count": 54,
   "id": "db1f727a",
   "metadata": {},
   "outputs": [
    {
     "data": {
      "image/png": "[encoded data removed]",
      "text/plain": [
       "<Figure size 432x288 with 1 Axes>"
      ]
     },
     "metadata": {
      "needs_background": "light"
     },
     "output_type": "display_data"
    }
   ],
   "source": [
    "figure=data.boxplot(column=\"Age\")"
   ]
  },
  {
   "cell_type": "markdown",
   "id": "d793013d",
   "metadata": {},
   "source": [
    "### Before"
   ]
  },
  {
   "cell_type": "code",
   "execution_count": 55,
   "id": "01a37fe1",
   "metadata": {},
   "outputs": [
    {
     "data": {
      "text/plain": [
       "<AxesSubplot:xlabel='Age', ylabel='Density'>"
      ]
     },
     "execution_count": 55,
     "metadata": {},
     "output_type": "execute_result"
    },
    {
     "data": {
      "image/png": "[encoded data removed]",
      "text/plain": [
       "<Figure size 432x288 with 1 Axes>"
      ]
     },
     "metadata": {
      "needs_background": "light"
     },
     "output_type": "display_data"
    }
   ],
   "source": [
    "sns.distplot(df[\"Age\"])"
   ]
  },
  {
   "cell_type": "markdown",
   "id": "93fcd3dd",
   "metadata": {},
   "source": [
    "### After"
   ]
  },
  {
   "cell_type": "code",
   "execution_count": 56,
   "id": "9eca3985",
   "metadata": {},
   "outputs": [
    {
     "data": {
      "text/plain": [
       "<AxesSubplot:xlabel='Age', ylabel='Density'>"
      ]
     },
     "execution_count": 56,
     "metadata": {},
     "output_type": "execute_result"
    },
    {
     "data": {
      "image/png": "[encoded data removed]",
      "text/plain": [
       "<Figure size 432x288 with 1 Axes>"
      ]
     },
     "metadata": {
      "needs_background": "light"
     },
     "output_type": "display_data"
    }
   ],
   "source": [
    "sns.distplot(data[\"Age\"])"
   ]
  },
  {
   "cell_type": "markdown",
   "id": "935246cd",
   "metadata": {},
   "source": [
    "# 2. Difference in Skewed data after handling outliers"
   ]
  },
  {
   "cell_type": "code",
   "execution_count": 57,
   "id": "be3f0cda",
   "metadata": {},
   "outputs": [
    {
     "data": {
      "image/png": "[encoded data removed]",
      "text/plain": [
       "<Figure size 432x288 with 1 Axes>"
      ]
     },
     "metadata": {
      "needs_background": "light"
     },
     "output_type": "display_data"
    }
   ],
   "source": [
    "figure=data.boxplot(column=\"Fare\")"
   ]
  },
  {
   "cell_type": "markdown",
   "id": "991b93c3",
   "metadata": {},
   "source": [
    "### Before "
   ]
  },
  {
   "cell_type": "code",
   "execution_count": 58,
   "id": "9fa029a6",
   "metadata": {},
   "outputs": [
    {
     "data": {
      "text/plain": [
       "<AxesSubplot:xlabel='Fare', ylabel='Density'>"
      ]
     },
     "execution_count": 58,
     "metadata": {},
     "output_type": "execute_result"
    },
    {
     "data": {
      "image/png": "[encoded data removed]",
      "text/plain": [
       "<Figure size 432x288 with 1 Axes>"
      ]
     },
     "metadata": {
      "needs_background": "light"
     },
     "output_type": "display_data"
    }
   ],
   "source": [
    "sns.distplot(df[\"Fare\"])"
   ]
  },
  {
   "cell_type": "markdown",
   "id": "b45bbce5",
   "metadata": {},
   "source": [
    "### After"
   ]
  },
  {
   "cell_type": "code",
   "execution_count": 59,
   "id": "1dcdb3af",
   "metadata": {},
   "outputs": [
    {
     "data": {
      "text/plain": [
       "<AxesSubplot:xlabel='Fare', ylabel='Density'>"
      ]
     },
     "execution_count": 59,
     "metadata": {},
     "output_type": "execute_result"
    },
    {
     "data": {
      "image/png": "[encoded data removed]",
      "text/plain": [
       "<Figure size 432x288 with 1 Axes>"
      ]
     },
     "metadata": {
      "needs_background": "light"
     },
     "output_type": "display_data"
    }
   ],
   "source": [
    "sns.distplot(data[\"Fare\"])"
   ]
  },
  {
   "cell_type": "markdown",
   "id": "a388f2bb",
   "metadata": {},
   "source": [
    "# Functions For Plotting, Finding and Removing the Outliers"
   ]
  },
  {
   "cell_type": "code",
   "execution_count": 1,
   "id": "5417bcc2",
   "metadata": {},
   "outputs": [],
   "source": [
    "# function to plot the distplot and boxplot for given dataframe and column\n",
    "def plot_distribution(df, col):\n",
    "    fig, ax =plt.subplots(1,2)\n",
    "    plt.figure(figsize=(40,10))\n",
    "    sns.distplot(df[col], ax=ax[0])  \n",
    "    df.boxplot(column=col, ax=ax[1])\n",
    "    plt.show()\n",
    "\n",
    "# function to find outliers in normally distributed data\n",
    "def find_outliers_normal(data, col):\n",
    "    upper_bound = data[col].mean() + 3*data[col].std()\n",
    "    lower_bound = data[col].mean() - 3*data[col].std()\n",
    "\n",
    "    upper_outliers = len(data.loc[data[col]>upper_bound])\n",
    "    lower_outliers = len(data.loc[data[col]>upper_bound])\n",
    "    \n",
    "    print(\"Outliers in '\",col,\"' Column\")\n",
    "    print(\"Upper Bound - \",upper_bound)\n",
    "    print(\"Lower Bound - \",lower_bound)\n",
    "    print(\"Number of Upper Outliers - \",upper_outliers)\n",
    "    print(\"Number of Lower Outliers - \",lower_outliers)\n",
    "    print(\"\")\n",
    "\n",
    "# function to find outliers in skewed data\n",
    "def find_outliers_skewed(df, col):\n",
    "    IQR = df[col].quantile(0.75)-df[col].quantile(0.25)\n",
    "    \n",
    "    upper_bound = df[col].quantile(0.75) + (IQR*1.5)\n",
    "    lower_bound = df[col].quantile(0.25) - (IQR*1.5)\n",
    "    \n",
    "    upper_outliers = len(df.loc[df[col]>upper_bound])\n",
    "    lower_outliers = len(df.loc[df[col]<lower_bound])\n",
    "    \n",
    "    \n",
    "    print(\"Outliers in '\",col,\"' Column\")\n",
    "    print(\"Upper Bound - \",upper_bound)\n",
    "    print(\"Lower Bound - \",lower_bound)\n",
    "    print(\"Number of Upper Outliers - \",upper_outliers)\n",
    "    print(\"Number of Lower Outliers - \",lower_outliers)\n",
    "    print(\"\")\n",
    "\n",
    "\n",
    "    \n",
    "# function to remove outliers from normally distributed data.\n",
    "def remove_outliers_normal(df, col):\n",
    "    df = df.copy(deep=True)\n",
    "    upper_bound = df[col].mean() + 3*df[col].std()\n",
    "    lower_bound = df[col].mean() - 3*df[col].std()\n",
    "    \n",
    "    df.loc[df[col]>=upper_bound, col] = upper_bound\n",
    "    df.loc[df[col]<=lower_bound, col] = lower_bound\n",
    "    \n",
    "    return df\n",
    "\n",
    "\n",
    "# function to remove outliers from skewed data.\n",
    "def remove_outliers_skewed(df, col):\n",
    "    IQR = df[col].quantile(0.75)-df[col].quantile(0.25)\n",
    "    \n",
    "    upper_bridge = df[col].quantile(0.75) + (IQR*1.5)\n",
    "    lower_bridge = df[col].quantile(0.25) - (IQR*1.5)\n",
    "    \n",
    "    df.loc[df[col]>=upper_bridge, col] = upper_bridge\n",
    "    df.loc[df[col]<=lower_bridge, col] = lower_bridge\n",
    "    \n",
    "    return df"
   ]
  },
  {
   "cell_type": "code",
   "execution_count": null,
   "id": "271cb7b7",
   "metadata": {},
   "outputs": [],
   "source": []
  }
 ],
 "metadata": {
  "kernelspec": {
   "display_name": "Python 3",
   "language": "python",
   "name": "python3"
  },
  "language_info": {
   "codemirror_mode": {
    "name": "ipython",
    "version": 3
   },
   "file_extension": ".py",
   "mimetype": "text/x-python",
   "name": "python",
   "nbconvert_exporter": "python",
   "pygments_lexer": "ipython3",
   "version": "3.8.8"
  }
 },
 "nbformat": 4,
 "nbformat_minor": 5
}
