{
 "cells": [
  {
   "cell_type": "markdown",
   "id": "e6d5bdcf",
   "metadata": {},
   "source": [
    "# 1. Univariate  EDA\n",
    "\n",
    "#### Univariate non-graphical-\n",
    "\n",
    "This is simplest form of data analysis, where the data being analyzed consists of just one variable. Since it’s a single variable, it doesn’t deal with causes or relationships. The main purpose of univariate analysis is to describe the data and find patterns that exist within it.\n",
    "\n",
    "#### Univariate graphical -\n",
    "\n",
    "Non-graphical methods don’t provide a full picture of the data. Graphical methods are therefore required. Common types of univariate graphics include:\n",
    "\n",
    "- Stem-and-leaf plots, which show all data values and the shape of the distribution.\n",
    "\n",
    "- Histograms, a bar plot in which each bar represents the frequency (count) or proportion (count/total count) of cases for a range of values.\n",
    "\n",
    "- Box plots, which graphically depict the five-number summary of minimum, first quartile, median, third quartile, and maximum."
   ]
  },
  {
   "cell_type": "code",
   "execution_count": 3,
   "id": "fc70f392",
   "metadata": {},
   "outputs": [
    {
     "data": {
      "text/html": [
       "<div>\n",
       "<style scoped>\n",
       "    .dataframe tbody tr th:only-of-type {\n",
       "        vertical-align: middle;\n",
       "    }\n",
       "\n",
       "    .dataframe tbody tr th {\n",
       "        vertical-align: top;\n",
       "    }\n",
       "\n",
       "    .dataframe thead th {\n",
       "        text-align: right;\n",
       "    }\n",
       "</style>\n",
       "<table border=\"1\" class=\"dataframe\">\n",
       "  <thead>\n",
       "    <tr style=\"text-align: right;\">\n",
       "      <th></th>\n",
       "      <th>age</th>\n",
       "      <th>sex</th>\n",
       "      <th>cp</th>\n",
       "      <th>trestbps</th>\n",
       "      <th>chol</th>\n",
       "      <th>fbs</th>\n",
       "      <th>restecg</th>\n",
       "      <th>thalach</th>\n",
       "      <th>exang</th>\n",
       "      <th>oldpeak</th>\n",
       "      <th>slope</th>\n",
       "      <th>ca</th>\n",
       "      <th>thal</th>\n",
       "      <th>target</th>\n",
       "    </tr>\n",
       "  </thead>\n",
       "  <tbody>\n",
       "    <tr>\n",
       "      <th>0</th>\n",
       "      <td>63</td>\n",
       "      <td>1</td>\n",
       "      <td>3</td>\n",
       "      <td>145</td>\n",
       "      <td>233</td>\n",
       "      <td>1</td>\n",
       "      <td>0</td>\n",
       "      <td>150</td>\n",
       "      <td>0</td>\n",
       "      <td>2.3</td>\n",
       "      <td>0</td>\n",
       "      <td>0</td>\n",
       "      <td>1</td>\n",
       "      <td>1</td>\n",
       "    </tr>\n",
       "    <tr>\n",
       "      <th>1</th>\n",
       "      <td>37</td>\n",
       "      <td>1</td>\n",
       "      <td>2</td>\n",
       "      <td>130</td>\n",
       "      <td>250</td>\n",
       "      <td>0</td>\n",
       "      <td>1</td>\n",
       "      <td>187</td>\n",
       "      <td>0</td>\n",
       "      <td>3.5</td>\n",
       "      <td>0</td>\n",
       "      <td>0</td>\n",
       "      <td>2</td>\n",
       "      <td>1</td>\n",
       "    </tr>\n",
       "    <tr>\n",
       "      <th>2</th>\n",
       "      <td>41</td>\n",
       "      <td>0</td>\n",
       "      <td>1</td>\n",
       "      <td>130</td>\n",
       "      <td>204</td>\n",
       "      <td>0</td>\n",
       "      <td>0</td>\n",
       "      <td>172</td>\n",
       "      <td>0</td>\n",
       "      <td>1.4</td>\n",
       "      <td>2</td>\n",
       "      <td>0</td>\n",
       "      <td>2</td>\n",
       "      <td>1</td>\n",
       "    </tr>\n",
       "  </tbody>\n",
       "</table>\n",
       "</div>"
      ],
      "text/plain": [
       "   age  sex  cp  trestbps  chol  fbs  restecg  thalach  exang  oldpeak  slope  \\\n",
       "0   63    1   3       145   233    1        0      150      0      2.3      0   \n",
       "1   37    1   2       130   250    0        1      187      0      3.5      0   \n",
       "2   41    0   1       130   204    0        0      172      0      1.4      2   \n",
       "\n",
       "   ca  thal  target  \n",
       "0   0     1       1  \n",
       "1   0     2       1  \n",
       "2   0     2       1  "
      ]
     },
     "execution_count": 3,
     "metadata": {},
     "output_type": "execute_result"
    }
   ],
   "source": [
    "# Importing Libraries \n",
    "\n",
    "import numpy as np\n",
    "import pandas as pd\n",
    "import matplotlib.pyplot as plt\n",
    "import seaborn as sns\n",
    "\n",
    "\n",
    "import warnings\n",
    "warnings.filterwarnings(\"ignore\")\n",
    "\n",
    "# Importing Data\n",
    "\n",
    "df = pd.read_csv('C:/Users/Shubham/Documents/Data Science/Notebooks/Data Store/heart.csv')\n",
    "df.head(3)"
   ]
  },
  {
   "cell_type": "markdown",
   "id": "5b386c5c",
   "metadata": {},
   "source": [
    "### We will analyse the \"target\" variable as univariate analysis"
   ]
  },
  {
   "cell_type": "markdown",
   "id": "c9238557",
   "metadata": {},
   "source": [
    "### 1. Checking the Unique value of Variable"
   ]
  },
  {
   "cell_type": "code",
   "execution_count": 4,
   "id": "8846ed97",
   "metadata": {},
   "outputs": [
    {
     "data": {
      "text/plain": [
       "2"
      ]
     },
     "execution_count": 4,
     "metadata": {},
     "output_type": "execute_result"
    }
   ],
   "source": [
    "### Number of uniques\n",
    "\n",
    "df[\"target\"].nunique()"
   ]
  },
  {
   "cell_type": "code",
   "execution_count": 5,
   "id": "e28b5a85",
   "metadata": {},
   "outputs": [
    {
     "data": {
      "text/plain": [
       "array([1, 0], dtype=int64)"
      ]
     },
     "execution_count": 5,
     "metadata": {},
     "output_type": "execute_result"
    }
   ],
   "source": [
    "### Finding the Unique values\n",
    "\n",
    "df[\"target\"].unique()"
   ]
  },
  {
   "cell_type": "markdown",
   "id": "6db65f09",
   "metadata": {},
   "source": [
    "#### Comment\n",
    "1. We have two unique values as (1, 0)\n",
    "2. 1 represents Positive class while 0 as negative class."
   ]
  },
  {
   "cell_type": "markdown",
   "id": "0d3d0264",
   "metadata": {},
   "source": [
    "### 2. Frequency Distribution of variable"
   ]
  },
  {
   "cell_type": "code",
   "execution_count": 6,
   "id": "435bb85e",
   "metadata": {},
   "outputs": [
    {
     "data": {
      "text/plain": [
       "1    165\n",
       "0    138\n",
       "Name: target, dtype: int64"
      ]
     },
     "execution_count": 6,
     "metadata": {},
     "output_type": "execute_result"
    }
   ],
   "source": [
    "df[\"target\"].value_counts()"
   ]
  },
  {
   "cell_type": "code",
   "execution_count": 11,
   "id": "1b9ebcd7",
   "metadata": {},
   "outputs": [
    {
     "data": {
      "text/plain": [
       "<AxesSubplot:xlabel='target', ylabel='count'>"
      ]
     },
     "execution_count": 11,
     "metadata": {},
     "output_type": "execute_result"
    },
    {
     "data": {
      "image/png": "[encoded data removed]",
      "text/plain": [
       "<Figure size 432x288 with 1 Axes>"
      ]
     },
     "metadata": {},
     "output_type": "display_data"
    }
   ],
   "source": [
    "sns.set(style=\"whitegrid\")\n",
    "sns.countplot(x=\"target\", data=df)"
   ]
  },
  {
   "cell_type": "markdown",
   "id": "0f377e27",
   "metadata": {},
   "source": [
    "### Comment \n",
    "1. Their are 165 positive classes and 138 negative class i.e. not suffering heart disease.\n",
    "2. Data is Somewhat balanced data."
   ]
  },
  {
   "cell_type": "markdown",
   "id": "9e035385",
   "metadata": {},
   "source": [
    "### 3. Frequency distribution of variable with respect to other variable"
   ]
  },
  {
   "cell_type": "markdown",
   "id": "4012ae14",
   "metadata": {},
   "source": [
    "## sns.countplot()\n",
    "\n",
    "sns.countplot(\n",
    "    **x** = None,\n",
    "    **y** = None,\n",
    "    **hue** = None,\n",
    "    **data** = None,\n",
    "    **order**= None,\n",
    "    **hue_order** = None, \n",
    "    **orient** = None,\n",
    "    **color** = None,\n",
    "    **palette** = None,\n",
    "    **saturation** = 0.75,\n",
    "    **dodge** = True,\n",
    "    **ax** = None,\n",
    ")\n",
    "\n",
    "A count plot can be thought of as a histogram across a categorical, instead of quantitative, variable. The basic API and options are identical to those\n",
    "\n",
    "Parameters\n",
    "----------\n",
    "**x, y, hue** : names of variables in ``data`` or vector data, optional\n",
    "     - Any one of x and y is specified x for vertical plot and y for horizontal.\n",
    "     - Hue is used for fruency distribution of variable with respect to other variable. that other vwaariable is given to hue.\n",
    "    \n",
    "**data** : DataFrame, array, or list of arrays, optional\n",
    "    Dataset for plotting. \n",
    "    \n",
    "**order, hue_order** : lists of strings, optional\n",
    "    Order to plot the categorical levels in, otherwise the levels are inferred from the data objects. \n",
    "\n",
    "**orient** : \"v\" | \"h\", optional\n",
    "    Orientation of the plot (vertical or horizontal). This is usually inferred based on the type of the input variables, but it can be used to resolve ambiguitiy when both `x` and `y` are numeric or when plotting wide-form data.    \n",
    "\n",
    "**color** : matplotlib color, optional\n",
    "    Color for all of the elements, or seed for a gradient palette.    \n",
    "\n",
    "**palette** : palette name, list, or dict\n",
    "    Colors to use for the different levels of the ``hue`` variable. Should\n",
    "    be something that can be interpreted by :func:`color_palette`, or a\n",
    "    dictionary mapping hue levels to matplotlib colors.    \n",
    "\n",
    "**saturation** : float, optional\n",
    "    Proportion of the original saturation to draw colors at. Large patches\n",
    "    often look better with slightly desaturated colors, but set this to\n",
    "    ``1`` if you want the plot colors to perfectly match the input color\n",
    "    spec.    \n",
    "\n",
    "**dodge** : bool, optional\n",
    "    When hue nesting is used, whether elements should be shifted along the categorical axis.    \n",
    "\n",
    "**ax** : matplotlib Axes, optional\n",
    "    Axes object to draw the plot onto, otherwise uses the current Axes.    \n",
    "kwargs : key, value mappings\n",
    "    Other keyword arguments are passed through to\n",
    "    :meth:`matplotlib.axes.Axes.bar`."
   ]
  },
  {
   "cell_type": "code",
   "execution_count": 14,
   "id": "8e774f93",
   "metadata": {},
   "outputs": [
    {
     "data": {
      "text/plain": [
       "sex  target\n",
       "0    1          72\n",
       "     0          24\n",
       "1    0         114\n",
       "     1          93\n",
       "Name: target, dtype: int64"
      ]
     },
     "execution_count": 14,
     "metadata": {},
     "output_type": "execute_result"
    }
   ],
   "source": [
    "df.groupby(\"sex\")[\"target\"].value_counts()"
   ]
  },
  {
   "cell_type": "code",
   "execution_count": 29,
   "id": "ad743a4b",
   "metadata": {},
   "outputs": [
    {
     "data": {
      "text/plain": [
       "<AxesSubplot:xlabel='sex', ylabel='count'>"
      ]
     },
     "execution_count": 29,
     "metadata": {},
     "output_type": "execute_result"
    },
    {
     "data": {
      "image/png": "[encoded data removed]",
      "text/plain": [
       "<Figure size 432x288 with 1 Axes>"
      ]
     },
     "metadata": {},
     "output_type": "display_data"
    }
   ],
   "source": [
    "sns.countplot(x=\"sex\",hue=\"target\" ,data=df)"
   ]
  },
  {
   "cell_type": "markdown",
   "id": "d4e29c16",
   "metadata": {},
   "source": [
    "### Alternate approach"
   ]
  },
  {
   "cell_type": "markdown",
   "id": "fd32a566",
   "metadata": {},
   "source": [
    "## sns.catplot()\n",
    "\n",
    "sns.catplot(\n",
    "    *,\n",
    "    x=None,\n",
    "    y=None,\n",
    "    hue=None,\n",
    "    data=None,\n",
    "    row=None,\n",
    "    col=None,\n",
    "    col_wrap=None,\n",
    "    estimator=<function mean at 0x000002C5FE264EE0>,\n",
    "    ci=95,\n",
    "    n_boot=1000,\n",
    "    units=None,\n",
    "    seed=None,\n",
    "    order=None,\n",
    "    hue_order=None,\n",
    "    row_order=None,\n",
    "    col_order=None,\n",
    "    kind='strip',\n",
    "    height=5,\n",
    "    aspect=1,\n",
    "    orient=None,\n",
    "    color=None,\n",
    "    palette=None,\n",
    "    legend=True,\n",
    "    legend_out=True,\n",
    "    sharex=True,\n",
    "    sharey=True,\n",
    "    margin_titles=False,\n",
    "    facet_kws=None,\n",
    "    **kwargs,\n",
    ")\n",
    "Docstring:\n",
    "Figure-level interface for drawing categorical plots onto a FacetGrid.\n",
    "\n",
    "This function provides access to several axes-level functions that\n",
    "show the relationship between a numerical and one or more categorical\n",
    "variables using one of several visual representations. The ``kind``\n",
    "parameter selects the underlying axes-level function to use:\n",
    "\n",
    "Categorical scatterplots:\n",
    "\n",
    "- :func:`stripplot` (with ``kind=\"strip\"``; the default)\n",
    "- :func:`swarmplot` (with ``kind=\"swarm\"``)\n",
    "\n",
    "Categorical distribution plots:\n",
    "\n",
    "- :func:`boxplot` (with ``kind=\"box\"``)\n",
    "- :func:`violinplot` (with ``kind=\"violin\"``)\n",
    "- :func:`boxenplot` (with ``kind=\"boxen\"``)\n",
    "\n",
    "Categorical estimate plots:\n",
    "\n",
    "- :func:`pointplot` (with ``kind=\"point\"``)\n",
    "- :func:`barplot` (with ``kind=\"bar\"``)\n",
    "- :func:`countplot` (with ``kind=\"count\"``)\n",
    "\n",
    "Extra keyword arguments are passed to the underlying function, so you\n",
    "should refer to the documentation for each to see kind-specific options.\n",
    "\n",
    "Note that unlike when using the axes-level functions directly, data must be\n",
    "passed in a long-form DataFrame with variables specified by passing strings\n",
    "to ``x``, ``y``, ``hue``, etc.\n",
    "\n",
    "As in the case with the underlying plot functions, if variables have a\n",
    "``categorical`` data type, the levels of the categorical variables, and\n",
    "their order will be inferred from the objects. Otherwise you may have to\n",
    "use alter the dataframe sorting or use the function parameters (``orient``,\n",
    "``order``, ``hue_order``, etc.) to set up the plot correctly.\n",
    "\n",
    "This function always treats one of the variables as categorical and\n",
    "draws data at ordinal positions (0, 1, ... n) on the relevant axis, even\n",
    "when the data has a numeric or date type.\n",
    "\n",
    "See the :ref:`tutorial <categorical_tutorial>` for more information.    \n",
    "\n",
    "After plotting, the :class:`FacetGrid` with the plot is returned and can\n",
    "be used directly to tweak supporting plot details or add other layers.\n",
    "\n",
    "Parameters\n",
    "----------\n",
    "**x, y, hue** : names of variables in ``data``\n",
    "    Inputs for plotting long-form data. See examples for interpretation.        \n",
    "**data** : DataFrame\n",
    "    Long-form (tidy) dataset for plotting. Each column should correspond\n",
    "    to a variable, and each row should correspond to an observation.    \n",
    "\n",
    "**row, col** : names of variables in ``data``, optional\n",
    "    Categorical variables that will determine the faceting of the grid.\n",
    "\n",
    "**col_wrap** : int\n",
    "    \"Wrap\" the column variable at this width, so that the column facets\n",
    "    span multiple rows. Incompatible with a ``row`` facet.    \n",
    "\n",
    "**estimator** : callable that maps vector -> scalar, optional\n",
    "    Statistical function to estimate within each categorical bin.\n",
    "\n",
    "**ci** : float or \"sd\" or None, optional\n",
    "    Size of confidence intervals to draw around estimated values.  If\n",
    "    \"sd\", skip bootstrapping and draw the standard deviation of the\n",
    "    observations. If ``None``, no bootstrapping will be performed, and\n",
    "    error bars will not be drawn.\n",
    "\n",
    "**n_boot** : int, optional\n",
    "    Number of bootstrap iterations to use when computing confidence\n",
    "    intervals.\n",
    "\n",
    "**units** : name of variable in ``data`` or vector data, optional\n",
    "    Identifier of sampling units, which will be used to perform a\n",
    "    multilevel bootstrap and account for repeated measures design.\n",
    "\n",
    "**seed** : int, numpy.random.Generator, or numpy.random.RandomState, optional\n",
    "    Seed or random number generator for reproducible bootstrapping.    \n",
    "\n",
    "**order, hue_order** : lists of strings, optional\n",
    "    Order to plot the categorical levels in, otherwise the levels are\n",
    "    inferred from the data objects.        \n",
    "\n",
    "**row_order, col_order** : lists of strings, optional\n",
    "    Order to organize the rows and/or columns of the grid in, otherwise the\n",
    "    orders are inferred from the data objects.\n",
    "\n",
    "**kind** : str, optional\n",
    "    The kind of plot to draw, corresponds to the name of a categorical\n",
    "    axes-level plotting function. Options are: \"strip\", \"swarm\", \"box\", \"violin\",\n",
    "    \"boxen\", \"point\", \"bar\", or \"count\".\n",
    "\n",
    "**height** : scalar\n",
    "    Height (in inches) of each facet. See also: ``aspect``.    \n",
    "\n",
    "**aspect** : scalar\n",
    "    Aspect ratio of each facet, so that ``aspect * height`` gives the width\n",
    "    of each facet in inches.    \n",
    "\n",
    "**orient** : \"v\" | \"h\", optional\n",
    "    Orientation of the plot (vertical or horizontal). This is usually\n",
    "    inferred based on the type of the input variables, but it can be used\n",
    "    to resolve ambiguitiy when both `x` and `y` are numeric or when\n",
    "    plotting wide-form data.    \n",
    "\n",
    "**color** : matplotlib color, optional\n",
    "    Color for all of the elements, or seed for a gradient palette.    \n",
    "palette : palette name, list, or dict\n",
    "    Colors to use for the different levels of the ``hue`` variable. Should\n",
    "    be something that can be interpreted by :func:`color_palette`, or a\n",
    "    dictionary mapping hue levels to matplotlib colors.    \n",
    "\n",
    "**legend** : bool, optional\n",
    "    If ``True`` and there is a ``hue`` variable, draw a legend on the plot.\n",
    "\n",
    "**legend_out** : bool\n",
    "    If ``True``, the figure size will be extended, and the legend will be\n",
    "    drawn outside the plot on the center right.    \n",
    "\n",
    "**share{x,y}** : bool, 'col', or 'row' optional\n",
    "    If true, the facets will share y axes across columns and/or x axes\n",
    "    across rows.    \n",
    "\n",
    "**margin_titles** : bool\n",
    "    If ``True``, the titles for the row variable are drawn to the right of\n",
    "    the last column. This option is experimental and may not work in all\n",
    "    cases.    \n",
    "\n",
    "**facet_kws** : dict, optional\n",
    "    Dictionary of other keyword arguments to pass to :class:`FacetGrid`.\n",
    "\n",
    "**kwargs** : key, value pairings\n",
    "    Other keyword arguments are passed through to the underlying plotting\n",
    "    function"
   ]
  },
  {
   "cell_type": "code",
   "execution_count": 33,
   "id": "f035f36e",
   "metadata": {},
   "outputs": [
    {
     "data": {
      "text/plain": [
       "<seaborn.axisgrid.FacetGrid at 0x2c595dac5e0>"
      ]
     },
     "execution_count": 33,
     "metadata": {},
     "output_type": "execute_result"
    },
    {
     "data": {
      "image/png": "[encoded data removed]",
      "text/plain": [
       "<Figure size 720x360 with 2 Axes>"
      ]
     },
     "metadata": {},
     "output_type": "display_data"
    }
   ],
   "source": [
    "sns.catplot(x=\"target\", col=\"sex\", data=df, kind=\"count\", height=5, aspect=1)"
   ]
  },
  {
   "cell_type": "markdown",
   "id": "656042dc",
   "metadata": {},
   "source": [
    "### Comment -\n",
    "\n",
    "- We can see that the values of target variable are plotted wrt sex : (1 = male; 0 = female).\n",
    "\n",
    "- target variable also contains two integer values 1 and 0 : (1 = Presence of heart disease; 0 = Absence of heart disease)\n",
    "\n",
    "- The above plot confirms our findings that -\n",
    "\n",
    "    - Out of 96 females - 72 have heart disease and 24 do not have heart disease.\n",
    "\n",
    "    - Similarly, out of 207 males - 93 have heart disease and 114 do not have heart disease."
   ]
  },
  {
   "cell_type": "code",
   "execution_count": null,
   "id": "dd6b2356",
   "metadata": {},
   "outputs": [],
   "source": []
  }
 ],
 "metadata": {
  "kernelspec": {
   "display_name": "Python 3",
   "language": "python",
   "name": "python3"
  },
  "language_info": {
   "codemirror_mode": {
    "name": "ipython",
    "version": 3
   },
   "file_extension": ".py",
   "mimetype": "text/x-python",
   "name": "python",
   "nbconvert_exporter": "python",
   "pygments_lexer": "ipython3",
   "version": "3.8.8"
  }
 },
 "nbformat": 4,
 "nbformat_minor": 5
}
