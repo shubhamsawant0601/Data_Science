{
 "cells": [
  {
   "cell_type": "markdown",
   "id": "eca99531",
   "metadata": {},
   "source": [
    "# Transformation of features\n",
    "\n",
    "- When our data has various kinds of values which has dirreferent units and hence their is huge difference in those values.\n",
    "\n",
    "- In certain algorithms we need to deel with this values as follows -\n",
    "    1. Regression - we gradient descent to get global minima\n",
    "    2. KNN, KMeans, Hierarchial - we find Euclidean distances.\n",
    "    \n",
    "- So in this cases we need to scale down this values so we can easily and quickly operate on this values.\n",
    "\n",
    "#### Types Of Transformation\n",
    "1. Normalization And Standardization\n",
    "2. Scaling to Minimum And Maximum values\n",
    "3. Scaling To Median And Quantiles\n",
    "4. Guassian Transformation\n",
    "  1. Logarithmic Transformation\n",
    "  2. Reciprocal Trnasformation\n",
    "  3. Square Root Transformation\n",
    "  4. Exponential Trnasformation\n",
    "  5. Box Cox Transformation"
   ]
  },
  {
   "cell_type": "code",
   "execution_count": 8,
   "id": "14a1016d",
   "metadata": {},
   "outputs": [
    {
     "data": {
      "text/html": [
       "<div>\n",
       "<style scoped>\n",
       "    .dataframe tbody tr th:only-of-type {\n",
       "        vertical-align: middle;\n",
       "    }\n",
       "\n",
       "    .dataframe tbody tr th {\n",
       "        vertical-align: top;\n",
       "    }\n",
       "\n",
       "    .dataframe thead th {\n",
       "        text-align: right;\n",
       "    }\n",
       "</style>\n",
       "<table border=\"1\" class=\"dataframe\">\n",
       "  <thead>\n",
       "    <tr style=\"text-align: right;\">\n",
       "      <th></th>\n",
       "      <th>Survived</th>\n",
       "      <th>Pclass</th>\n",
       "      <th>Age</th>\n",
       "      <th>Fare</th>\n",
       "    </tr>\n",
       "  </thead>\n",
       "  <tbody>\n",
       "    <tr>\n",
       "      <th>0</th>\n",
       "      <td>0</td>\n",
       "      <td>3</td>\n",
       "      <td>22.0</td>\n",
       "      <td>7.2500</td>\n",
       "    </tr>\n",
       "    <tr>\n",
       "      <th>1</th>\n",
       "      <td>1</td>\n",
       "      <td>1</td>\n",
       "      <td>38.0</td>\n",
       "      <td>71.2833</td>\n",
       "    </tr>\n",
       "    <tr>\n",
       "      <th>2</th>\n",
       "      <td>1</td>\n",
       "      <td>3</td>\n",
       "      <td>26.0</td>\n",
       "      <td>7.9250</td>\n",
       "    </tr>\n",
       "  </tbody>\n",
       "</table>\n",
       "</div>"
      ],
      "text/plain": [
       "   Survived  Pclass   Age     Fare\n",
       "0         0       3  22.0   7.2500\n",
       "1         1       1  38.0  71.2833\n",
       "2         1       3  26.0   7.9250"
      ]
     },
     "execution_count": 8,
     "metadata": {},
     "output_type": "execute_result"
    }
   ],
   "source": [
    "# Importing Libraries for ML\n",
    "\n",
    "import numpy as np\n",
    "import pandas as pd\n",
    "import matplotlib.pyplot as plt\n",
    "import seaborn as sns\n",
    "from sklearn.model_selection import train_test_split, GridSearchCV\n",
    "from sklearn.metrics import accuracy_score, classification_report, confusion_matrix\n",
    "\n",
    "import warnings\n",
    "warnings.filterwarnings(\"ignore\")\n",
    "\n",
    "# Importing Data\n",
    "\n",
    "df = pd.read_csv('C:/Users/Shubham/Documents/Data Science/Notebooks/00. Data_Store/titanic.csv',usecols=[\"Survived\",\"Pclass\",\"Age\",\"Fare\"])\n",
    "\n",
    "# Removing Null\n",
    "\n",
    "df[\"Age\"].fillna(df.Age.median(), inplace=True)\n",
    "\n",
    "# Splitting Independent and Dependent Feature\n",
    "\n",
    "x = df.iloc[:, 1:]\n",
    "y = df.iloc[:,0]\n",
    "\n",
    "# Splitting Data into Train Test split\n",
    "\n",
    "from sklearn.model_selection import train_test_split\n",
    "x_train, x_test, y_train, y_test = train_test_split(x, y, test_size=0.33, random_state=42)\n",
    "\n",
    "df.head(3)"
   ]
  },
  {
   "cell_type": "markdown",
   "id": "d02c0ecf",
   "metadata": {},
   "source": [
    "## 1. Standardization (Why standardization?)\n",
    "\n",
    "- Standardization comes into picture when features of input data set have large differences between their ranges, or simply when they are measured in different measurement units (e.g., Pounds, Meters, Miles … etc).\n",
    "\n",
    "- We try to bring all the variables or features to a similar scale. standarisation means centering the variable at zero.\n",
    "\n",
    "$z = \\frac {(X- Xmean)}{Standard Deviation}$\n",
    "\n",
    "- Standerd Deviation  = 1\n",
    "- Mean of Data = 0\n",
    "\n",
    "Standerdization is the process where data is scaled such that Standerd deviation is 1 and mean 0, that means data is simply distributed across 0."
   ]
  },
  {
   "cell_type": "markdown",
   "id": "0fa08800",
   "metadata": {},
   "source": [
    "### Difference between **`fit_transform()`** and **`transform()`**\n",
    "\n",
    "- When we do **fit_transform()** data is fitted to **StanderdScalar object** where **mean**, **Standerd Deviation** required for scaling is finded out from data and used for scaling\n",
    "\n",
    "- When we do **transform()** then the  **mean**, **Standerd Deviation** are used which calculated in fit method.\n",
    "\n",
    "- Now we need to use the same  **mean**, **Standerd Deviation** for both the x_train and x_test datas hence we use `fit_transform()` only once and then only `transform()` is used."
   ]
  },
  {
   "cell_type": "code",
   "execution_count": 12,
   "id": "8f78a028",
   "metadata": {},
   "outputs": [
    {
     "data": {
      "text/plain": [
       "array([[-1.62580285,  1.91349292,  0.38784185],\n",
       "       [ 0.80576177, -0.09452019, -0.31908053],\n",
       "       [-0.41002054, -0.32621401,  0.18792449],\n",
       "       ...,\n",
       "       [ 0.80576177,  0.90948636, -0.34613654],\n",
       "       [-1.62580285, -1.17575802,  1.71250117],\n",
       "       [-1.62580285, -0.63513911,  0.8821286 ]])"
      ]
     },
     "execution_count": 12,
     "metadata": {},
     "output_type": "execute_result"
    }
   ],
   "source": [
    "from sklearn.preprocessing import StandardScaler\n",
    "\n",
    "scaler = StandardScaler()\n",
    "\n",
    "x_train_scaled = scaler.fit_transform(x_train)\n",
    "\n",
    "x_test_scaled = scaler.transform(x_test)\n",
    "\n",
    "x_train_scaled"
   ]
  },
  {
   "cell_type": "code",
   "execution_count": 13,
   "id": "48669873",
   "metadata": {},
   "outputs": [
    {
     "data": {
      "text/plain": [
       "array([[ 0.80576177, -0.09452019, -0.32402243],\n",
       "       [-0.41002054,  0.13717363, -0.4162854 ],\n",
       "       [ 0.80576177, -0.71237038, -0.46634591],\n",
       "       [-0.41002054, -1.79360821,  0.0211365 ],\n",
       "       [ 0.80576177, -1.17575802, -0.40186603],\n",
       "       [-1.62580285, -0.24898274,  0.91250512],\n",
       "       [ 0.80576177, -0.09452019, -0.46974808],\n",
       "       [ 0.80576177, -1.02129548, -0.2704781 ],\n",
       "       [ 0.80576177, -1.02129548, -0.46974808],\n",
       "       [-1.62580285, -0.78960166, -0.10944269],\n",
       "       [-1.62580285,  0.60056127,  0.41190006],\n",
       "       [ 0.80576177,  1.14118018, -0.46391578],\n",
       "       [ 0.80576177, -0.09452019, -0.12531819],\n",
       "       [ 0.80576177,  0.05994235, -0.47995459],\n",
       "       [-0.41002054,  0.52332999, -0.36768297],\n",
       "       [-1.62580285, -1.02129548,  0.14555873],\n",
       "       [-1.62580285,  0.98671764,  0.40128918],\n",
       "       [ 0.80576177, -0.09452019, -0.46820835],\n",
       "       [-0.41002054, -0.17175147, -0.36768297],\n",
       "       [-1.62580285,  1.372874  ,  0.39051499],\n",
       "       [ 0.80576177, -0.40344529, -0.46691358],\n",
       "       [-1.62580285,  0.36886745, -0.10425778],\n",
       "       [ 0.80576177, -0.78960166, -0.46772233],\n",
       "       [ 0.80576177, -0.71237038, -0.44107264],\n",
       "       [ 0.80576177, -0.09452019, -0.33852151],\n",
       "       [ 0.80576177, -1.48468312, -0.07801247],\n",
       "       [-1.62580285,  0.83225509, -0.08149629],\n",
       "       [-0.41002054,  0.13717363, -0.36768297],\n",
       "       [ 0.80576177, -1.94807076, -0.07801247],\n",
       "       [ 0.80576177,  0.13717363, -0.46772233],\n",
       "       [ 0.80576177, -0.78960166, -0.46691358],\n",
       "       [ 0.80576177, -0.55790784, -0.46974808],\n",
       "       [-1.62580285, -0.09452019, -0.02365939],\n",
       "       [ 0.80576177, -0.09452019, -0.47363627],\n",
       "       [ 0.80576177, -0.86683293, -0.46391578],\n",
       "       [ 0.80576177, -0.17175147, -0.3394119 ],\n",
       "       [-1.62580285, -0.09452019,  0.06973893],\n",
       "       [ 0.80576177, -0.09452019, -0.46974808],\n",
       "       [-1.62580285,  0.05994235, -0.01774545],\n",
       "       [ 0.80576177, -0.09452019, -0.46691358],\n",
       "       [-0.41002054, -0.63513911,  0.80849591],\n",
       "       [ 0.80576177, -0.01728892, -0.48343841],\n",
       "       [ 0.80576177, -0.09452019, -0.46391578],\n",
       "       [ 0.80576177, -0.09452019, -0.46974808],\n",
       "       [ 0.80576177,  1.21841146, -0.3394119 ],\n",
       "       [ 0.80576177, -1.02129548,  0.04786783],\n",
       "       [ 0.80576177, -0.78960166, -0.46181033],\n",
       "       [ 0.80576177, -0.48067656, -0.44107264],\n",
       "       [ 0.80576177, -0.40344529, -0.48335676],\n",
       "       [-1.62580285,  2.22241801,  1.58176062],\n",
       "       [ 0.80576177, -1.87083949, -0.24601552],\n",
       "       [-1.62580285,  1.75903037,  1.19731538],\n",
       "       [ 0.80576177,  0.83225509, -0.07801247],\n",
       "       [-1.62580285, -1.40745185,  1.71250117],\n",
       "       [ 0.80576177,  2.76303693, -0.46974808],\n",
       "       [-1.62580285, -0.86683293,  0.9280579 ],\n",
       "       [-0.41002054,  0.2144049 , -0.4162854 ],\n",
       "       [-1.62580285,  1.60456783,  4.19162962],\n",
       "       [-0.41002054,  0.44609872, -0.21215518],\n",
       "       [ 0.80576177, -0.78960166, -0.4672363 ],\n",
       "       [ 0.80576177, -0.63513911, -0.46926205],\n",
       "       [-0.41002054, -1.2529893 , -0.24131664],\n",
       "       [-0.41002054, -0.09452019, -0.11495032],\n",
       "       [-1.62580285, -0.09452019, -0.11640839],\n",
       "       [ 0.80576177, -0.09452019, -0.46974808],\n",
       "       [-0.41002054,  2.14518674, -0.4162854 ],\n",
       "       [-0.41002054, -0.63513911,  0.80849591],\n",
       "       [ 0.80576177, -0.01728892, -0.46731796],\n",
       "       [ 0.80576177, -0.9440642 , -0.47987294],\n",
       "       [-1.62580285,  1.75903037,  0.9011652 ],\n",
       "       [-0.41002054, -0.24898274, -0.11495032],\n",
       "       [-1.62580285, -0.86683293,  4.48040973],\n",
       "       [-1.62580285, -0.24898274, -0.03718642],\n",
       "       [-1.62580285,  0.75502382,  0.99626266],\n",
       "       [ 0.80576177, -0.48067656, -0.46772233],\n",
       "       [ 0.80576177,  0.52332999, -0.31810849],\n",
       "       [ 0.80576177,  0.09855799, -0.46974808],\n",
       "       [-1.62580285, -0.55790784,  0.34191255],\n",
       "       [-0.41002054,  0.67779254, -0.36768297],\n",
       "       [ 0.80576177,  0.90948636, -0.22746495],\n",
       "       [ 0.80576177, -1.02129548,  0.15114801],\n",
       "       [-0.41002054, -0.01728892, -0.4162854 ],\n",
       "       [-1.62580285,  0.83225509,  1.99439528],\n",
       "       [ 0.80576177, -0.09452019, -0.46999109],\n",
       "       [-1.62580285,  2.06795547, -0.02365939],\n",
       "       [-1.62580285,  3.22642457,  0.34199421],\n",
       "       [-1.62580285,  0.13717363,  1.58176062],\n",
       "       [-1.62580285,  0.05994235,  0.48634343],\n",
       "       [-1.62580285,  0.67779254, -0.62041562],\n",
       "       [ 0.80576177, -0.09452019, -0.47946856],\n",
       "       [ 0.80576177, -1.56191439, -0.22138964],\n",
       "       [ 0.80576177, -1.56191439, -0.01239918],\n",
       "       [-1.62580285,  2.45411184,  0.00793219],\n",
       "       [ 0.80576177, -0.09452019, -0.47015245],\n",
       "       [ 0.80576177, -0.09452019, -0.46691358],\n",
       "       [ 0.80576177, -0.09452019, -0.46772233],\n",
       "       [-1.62580285,  1.45010528,  0.39051499],\n",
       "       [ 0.80576177,  1.21841146, -0.46391578],\n",
       "       [-0.41002054,  0.52332999, -0.36768297],\n",
       "       [ 0.80576177, -0.17175147, -0.46691358],\n",
       "       [-1.62580285,  2.68580566, -0.11495032],\n",
       "       [ 0.80576177,  0.44609872, -0.48189869],\n",
       "       [-1.62580285, -0.78960166,  1.15025267],\n",
       "       [ 0.80576177,  0.67779254, -0.48335676],\n",
       "       [ 0.80576177,  0.09855799, -0.46391578],\n",
       "       [ 0.80576177, -0.32621401, -0.46926205],\n",
       "       [-0.41002054,  0.83225509,  0.13778234],\n",
       "       [-1.62580285,  1.372874  ,  0.12806185],\n",
       "       [ 0.80576177,  0.05994235, -0.43572637],\n",
       "       [-1.62580285,  0.83225509, -0.01774545],\n",
       "       [-1.62580285, -0.09452019,  0.39051499],\n",
       "       [ 0.80576177, -0.67375475, -0.47946856],\n",
       "       [-1.62580285, -0.09452019,  1.11185675],\n",
       "       [-1.62580285,  0.52332999, -0.10936104],\n",
       "       [-1.62580285, -0.09452019,  3.69118787],\n",
       "       [ 0.80576177, -0.71237038, -0.42900369],\n",
       "       [-1.62580285,  3.22642457,  0.05329575],\n",
       "       [-0.41002054,  0.52332999, -0.37011309],\n",
       "       [-0.41002054, -0.55790784, -0.0566274 ],\n",
       "       [ 0.80576177,  1.45010528,  0.04786783],\n",
       "       [-0.41002054, -0.48067656, -0.39684443],\n",
       "       [-1.62580285,  0.2144049 ,  0.86276928],\n",
       "       [-1.62580285,  2.60857438,  0.8951696 ],\n",
       "       [-0.41002054, -2.1928939 , -0.0566274 ],\n",
       "       [ 0.80576177, -0.32621401, -0.47946856],\n",
       "       [-1.62580285,  0.44609872, -0.10425778],\n",
       "       [-1.62580285,  1.52733655, -0.11632674],\n",
       "       [-1.62580285, -0.40344529,  0.91930946],\n",
       "       [ 0.80576177, -0.09452019, -0.3393322 ],\n",
       "       [ 0.80576177, -0.63513911, -0.46391578],\n",
       "       [ 0.80576177, -0.09452019, -0.4672363 ],\n",
       "       [ 0.80576177, -0.09452019, -0.32402243],\n",
       "       [-0.41002054, -0.09452019, -0.62041562],\n",
       "       [ 0.80576177, -1.87083949, -0.37788948],\n",
       "       [-1.62580285,  1.52733655,  0.48634343],\n",
       "       [ 0.80576177, -1.09852675, -0.3394119 ],\n",
       "       [-1.62580285, -0.09452019,  1.53526365],\n",
       "       [ 0.80576177, -0.01728892, -0.46926205],\n",
       "       [ 0.80576177,  0.98671764, -0.47363627],\n",
       "       [ 0.80576177, -0.86683293, -0.2743663 ],\n",
       "       [ 0.80576177, -0.63513911, -0.45646406],\n",
       "       [-0.41002054,  1.14118018, -0.11495032],\n",
       "       [-0.41002054, -0.09452019, -0.36768297],\n",
       "       [-0.41002054,  0.60056127, -0.11495032],\n",
       "       [ 0.80576177,  0.75502382, -0.05419727],\n",
       "       [-0.41002054,  0.36886745,  0.01141601],\n",
       "       [-0.41002054,  0.05994235, -0.36768297],\n",
       "       [-0.41002054,  2.8402682 , -0.4162854 ],\n",
       "       [-1.62580285, -0.09452019,  2.22809133],\n",
       "       [ 0.80576177,  1.06394891, -0.46391578],\n",
       "       [ 0.80576177, -0.09452019, -0.45103614],\n",
       "       [ 0.80576177, -0.40344529, -0.47468997],\n",
       "       [ 0.80576177, -0.86683293, -0.46885768],\n",
       "       [ 0.80576177, -0.09452019, -0.15091612],\n",
       "       [ 0.80576177, -0.09452019, -0.46391578],\n",
       "       [ 0.80576177, -0.09452019, -0.48335676],\n",
       "       [ 0.80576177, -0.09452019,  0.47791772],\n",
       "       [ 0.80576177, -0.09452019, -0.46901904],\n",
       "       [-0.41002054,  0.52332999, -0.11495032],\n",
       "       [ 0.80576177,  0.2144049 , -0.31908053],\n",
       "       [ 0.80576177, -0.44206093, -0.47987294],\n",
       "       [-1.62580285, -0.09452019, -0.10425778],\n",
       "       [-0.41002054,  0.75502382, -0.36768297],\n",
       "       [-1.62580285, -0.09452019,  0.9770647 ],\n",
       "       [ 0.80576177, -0.09452019, -0.45597804],\n",
       "       [-1.62580285,  2.76303693,  0.58452035],\n",
       "       [-0.41002054, -0.48067656, -0.4162854 ],\n",
       "       [-1.62580285, -0.09452019,  0.38784185],\n",
       "       [ 0.80576177, -0.55790784, -0.46691358],\n",
       "       [ 0.80576177,  0.44609872, -0.48335676],\n",
       "       [-1.62580285, -0.48067656,  0.61133139],\n",
       "       [-0.41002054, -0.86683293, -0.36768297],\n",
       "       [-1.62580285,  0.52332999, -0.10741694],\n",
       "       [ 0.80576177, -1.56191439, -0.32402243],\n",
       "       [ 0.80576177, -0.9440642 , -0.48189869],\n",
       "       [ 0.80576177, -0.09452019, -0.47995459],\n",
       "       [ 0.80576177,  0.67779254, -0.01021207],\n",
       "       [-0.41002054, -0.9440642 , -0.4162854 ],\n",
       "       [ 0.80576177, -1.94807076, -0.29575137],\n",
       "       [-1.62580285,  1.25702709, -0.06634788],\n",
       "       [-0.41002054, -0.48067656, -0.36768297],\n",
       "       [ 0.80576177,  0.2144049 , -0.46634591],\n",
       "       [ 0.80576177, -0.24898274, -0.46772233],\n",
       "       [ 0.80576177, -1.79360821, -0.01239918],\n",
       "       [-1.62580285, -0.40344529,  4.19162962],\n",
       "       [-1.62580285,  1.21841146, -0.10425778],\n",
       "       [-0.41002054, -0.01728892, -0.08149629],\n",
       "       [ 0.80576177, -0.09452019, -0.46691358],\n",
       "       [-1.62580285, -0.09452019,  0.06973893],\n",
       "       [-0.41002054,  0.98671764, -0.36768297],\n",
       "       [ 0.80576177,  0.52332999, -0.15091612],\n",
       "       [-0.41002054,  0.29163617, -0.38177767],\n",
       "       [ 0.80576177, -0.9440642 , -0.48327511],\n",
       "       [ 0.80576177, -0.01728892, -0.43572637],\n",
       "       [-0.41002054,  1.60456783, -0.11495032],\n",
       "       [-1.62580285,  0.44609872,  1.12927197],\n",
       "       [-1.62580285,  0.67779254,  3.80289181],\n",
       "       [-0.41002054,  0.36886745, -0.36768297],\n",
       "       [-1.62580285, -0.9440642 ,  0.48771985],\n",
       "       [ 0.80576177, -1.40745185, -0.01239918],\n",
       "       [ 0.80576177,  2.45411184, -0.49915255],\n",
       "       [ 0.80576177,  0.05994235, -0.45200819],\n",
       "       [-0.41002054, -1.71637694, -0.11009007],\n",
       "       [ 0.80576177,  2.60857438, -0.43402529],\n",
       "       [ 0.80576177, -0.71237038, -0.47987294],\n",
       "       [ 0.80576177, -0.09452019, -0.18574851],\n",
       "       [ 0.80576177, -0.01728892, -0.43605104],\n",
       "       [-1.62580285,  0.52332999,  1.71250117],\n",
       "       [ 0.80576177, -0.09452019, -0.3393322 ],\n",
       "       [ 0.80576177,  1.60456783, -0.46391578],\n",
       "       [-1.62580285, -0.17175147,  3.49135022],\n",
       "       [ 0.80576177,  0.05994235, -0.47946856],\n",
       "       [-1.62580285,  0.29163617,  1.12927197],\n",
       "       [ 0.80576177, -0.09452019, -0.4702341 ],\n",
       "       [ 0.80576177, -0.09452019, -0.12531819],\n",
       "       [ 0.80576177, -2.10253331, -0.21069711],\n",
       "       [-0.41002054, -0.32621401, -0.03718642],\n",
       "       [-1.62580285,  1.6817991 ,  0.57285576],\n",
       "       [-0.41002054, -0.32621401, -0.11495032],\n",
       "       [ 0.80576177, -0.09452019, -0.47946856],\n",
       "       [ 0.80576177, -0.09452019, -0.46691358],\n",
       "       [-0.41002054, -0.40344529, -0.36768297],\n",
       "       [ 0.80576177, -0.86683293, -0.22746495],\n",
       "       [-1.62580285, -0.09452019, -0.02746594],\n",
       "       [ 0.80576177, -0.32621401, -0.48335676],\n",
       "       [-0.41002054, -0.40344529, -0.33852151],\n",
       "       [ 0.80576177, -0.55790784, -0.47420395],\n",
       "       [-1.62580285, -2.18594308,  2.32586387],\n",
       "       [-0.41002054, -0.40344529, -0.11495032],\n",
       "       [ 0.80576177, -0.24898274, -0.46634591],\n",
       "       [-0.41002054,  0.36886745, -0.21215518],\n",
       "       [-1.62580285, -0.63513911,  4.48040973],\n",
       "       [ 0.80576177, -0.09452019, -0.46974808],\n",
       "       [ 0.80576177, -0.09452019, -0.47987294],\n",
       "       [ 0.80576177, -0.09452019, -0.45200819],\n",
       "       [ 0.80576177, -0.55790784, -0.46926205],\n",
       "       [-1.62580285,  2.53134311,  0.93486224],\n",
       "       [ 0.80576177, -0.86683293, -0.42908339],\n",
       "       [-1.62580285,  0.98671764,  3.80289181],\n",
       "       [-0.41002054,  2.14518674, -0.3803196 ],\n",
       "       [ 0.80576177, -0.78960166, -0.62041562],\n",
       "       [-0.41002054,  0.98671764, -0.11495032],\n",
       "       [ 0.80576177, -0.09452019, -0.47995459],\n",
       "       [ 0.80576177, -0.71237038, -0.45200819],\n",
       "       [ 0.80576177,  0.40748308, -0.49526435],\n",
       "       [ 0.80576177, -0.09452019, -0.43572637],\n",
       "       [ 0.80576177, -0.09452019, -0.46391578],\n",
       "       [ 0.80576177, -0.48067656, -0.46691358],\n",
       "       [ 0.80576177, -0.55790784, -0.47946856],\n",
       "       [-1.62580285,  1.75903037, -0.02746594],\n",
       "       [ 0.80576177,  0.05994235, -0.37788948],\n",
       "       [-0.41002054,  0.56194563, -0.11495032],\n",
       "       [ 0.80576177, -0.09452019, -0.46974808],\n",
       "       [ 0.80576177, -0.55790784, -0.47987294],\n",
       "       [-1.62580285,  1.60456783,  1.97787045],\n",
       "       [ 0.80576177, -0.17175147, -0.48481483],\n",
       "       [ 0.80576177, -0.55790784, -0.46391578],\n",
       "       [-1.62580285,  1.6817991 ,  0.8951696 ],\n",
       "       [-0.41002054,  0.52332999, -0.4162854 ],\n",
       "       [-0.41002054, -0.01728892, -0.11495032],\n",
       "       [-1.62580285, -0.55790784,  2.32586387],\n",
       "       [-1.62580285,  1.60456783,  1.44858996],\n",
       "       [-0.41002054,  0.83225509, -0.36768297],\n",
       "       [ 0.80576177, -0.17175147, -0.45200819],\n",
       "       [-1.62580285, -0.09452019, -0.62041562],\n",
       "       [-1.62580285,  2.76303693, -0.10425778],\n",
       "       [ 0.80576177, -0.9440642 , -0.45200819],\n",
       "       [-1.62580285, -0.09452019, -0.10425778],\n",
       "       [-1.62580285, -1.94807076,  0.9709894 ],\n",
       "       [ 0.80576177, -0.09452019, -0.46691358],\n",
       "       [ 0.80576177, -2.17976458, -0.40397343],\n",
       "       [-0.41002054,  0.52332999, -0.08092861],\n",
       "       [-0.41002054,  1.06394891, -0.11009007],\n",
       "       [-1.62580285,  0.67779254,  2.36304473],\n",
       "       [-0.41002054,  0.13717363, -0.11009007],\n",
       "       [ 0.80576177, -0.01728892, -0.46391578],\n",
       "       [ 0.80576177, -0.86683293, -0.45905554],\n",
       "       [-0.41002054, -0.09452019, -0.32782897],\n",
       "       [-1.62580285,  0.75502382,  1.53526365],\n",
       "       [-0.41002054,  0.75502382, -0.36768297],\n",
       "       [ 0.80576177, -0.24898274, -0.45200819],\n",
       "       [ 0.80576177, -0.71237038, -0.48335676],\n",
       "       [-1.62580285, -0.09452019,  1.97787045],\n",
       "       [ 0.80576177,  1.52733655, -0.62041562],\n",
       "       [-0.41002054, -0.48067656, -0.32791062],\n",
       "       [ 0.80576177, -2.17976458,  0.15114801],\n",
       "       [ 0.80576177, -0.09452019, -0.4672363 ],\n",
       "       [ 0.80576177, -0.09452019, -0.1645248 ],\n",
       "       [-0.41002054, -2.02530203, -0.11495032],\n",
       "       [ 0.80576177, -1.94807076, -0.40397343],\n",
       "       [ 0.80576177, -0.78960166, -0.47169217],\n",
       "       [ 0.80576177,  0.87087073, -0.46974808],\n",
       "       [ 0.80576177, -2.17976458, -0.31438165],\n",
       "       [ 0.80576177, -0.09452019, -0.32402243],\n",
       "       [ 0.80576177, -0.63513911, -0.46634591]])"
      ]
     },
     "execution_count": 13,
     "metadata": {},
     "output_type": "execute_result"
    }
   ],
   "source": [
    "x_test_scaled"
   ]
  },
  {
   "cell_type": "markdown",
   "id": "14705092",
   "metadata": {},
   "source": [
    "## 2. Min-Max Scaling \n",
    "- It is used to scale down the values between 0-1.\n",
    "- It is extensively used in CNN for images as pixel values are in 0-255 it scales down them to 0-1.\n",
    "- Min Max Scaling scales the values between 0 to 1. hence in binary classification we can directly apply it on DataFrame containing Target data also as it will not effect 0 and 1 only values in it.\n",
    "\n",
    "$ Xscaled = \\frac {X - X.min} {Xmax - Xmin}$\n"
   ]
  },
  {
   "cell_type": "code",
   "execution_count": 16,
   "id": "d56427e8",
   "metadata": {},
   "outputs": [
    {
     "data": {
      "text/plain": [
       "array([[0.        , 1.        , 0.27117366, 0.01415106],\n",
       "       [1.        , 0.        , 0.4722292 , 0.13913574],\n",
       "       [1.        , 1.        , 0.32143755, 0.01546857],\n",
       "       ...,\n",
       "       [0.        , 1.        , 0.34656949, 0.04577135],\n",
       "       [1.        , 0.        , 0.32143755, 0.0585561 ],\n",
       "       [0.        , 1.        , 0.39683338, 0.01512699]])"
      ]
     },
     "execution_count": 16,
     "metadata": {},
     "output_type": "execute_result"
    }
   ],
   "source": [
    "from sklearn.preprocessing import MinMaxScaler\n",
    "\n",
    "min_max=MinMaxScaler()\n",
    "\n",
    "df_mm_scaled = min_max.fit_transform(df)\n",
    "\n",
    "df_mm_scaled"
   ]
  },
  {
   "cell_type": "markdown",
   "id": "0be8738a",
   "metadata": {},
   "source": [
    "## 3. Robust Scaler\n",
    "\n",
    "- Robust Scaler are robust to outliers.It is used to scale the feature to median and quantiles\n",
    "\n",
    "- Scaling using median and quantiles consists of substracting the median to all the observations, and then dividing by the interquantile difference. The interquantile difference is the difference between the 75th and 25th quantile:\n",
    "\n",
    "$IQR = 75_{th} quantile - 25_{th} quantile$\n",
    "\n",
    "$ Xscaled = \\frac{X - Xmedian}{IQR}$\n",
    "\n",
    "quantile is the percentile in the boxplot"
   ]
  },
  {
   "cell_type": "code",
   "execution_count": 17,
   "id": "c6fec82c",
   "metadata": {},
   "outputs": [],
   "source": [
    "from sklearn.preprocessing import RobustScaler\n",
    "\n",
    "scaler = RobustScaler()\n",
    "\n",
    "df_robust_scaler_train = scaler.fit_transform(x_train)\n",
    "\n",
    "df_robust_scaler_test = scaler.transform(x_test)"
   ]
  },
  {
   "cell_type": "code",
   "execution_count": 20,
   "id": "f3d1c1cf",
   "metadata": {},
   "outputs": [
    {
     "data": {
      "text/plain": [
       "array([[-2.        ,  2.        ,  1.60206852],\n",
       "       [ 0.        ,  0.        ,  0.04478801],\n",
       "       [-1.        , -0.23076923,  1.16167024],\n",
       "       ...,\n",
       "       [ 0.        ,  1.        , -0.0148137 ],\n",
       "       [-2.        , -1.07692308,  4.52016274],\n",
       "       [-2.        , -0.53846154,  2.69093362]])"
      ]
     },
     "execution_count": 20,
     "metadata": {},
     "output_type": "execute_result"
    }
   ],
   "source": [
    "df_robust_scaler_train"
   ]
  },
  {
   "cell_type": "code",
   "execution_count": 21,
   "id": "f05e1df6",
   "metadata": {},
   "outputs": [
    {
     "data": {
      "text/plain": [
       "array([[-2.        ,  2.        ,  1.60206852],\n",
       "       [ 0.        ,  0.        ,  0.04478801],\n",
       "       [-1.        , -0.23076923,  1.16167024],\n",
       "       ...,\n",
       "       [ 0.        ,  1.        , -0.0148137 ],\n",
       "       [-2.        , -1.07692308,  4.52016274],\n",
       "       [-2.        , -0.53846154,  2.69093362]])"
      ]
     },
     "execution_count": 21,
     "metadata": {},
     "output_type": "execute_result"
    }
   ],
   "source": [
    "df_robust_scaler_train"
   ]
  },
  {
   "cell_type": "markdown",
   "id": "1429fb8b",
   "metadata": {},
   "source": [
    "### It is basically used to handle the outliers"
   ]
  },
  {
   "cell_type": "markdown",
   "id": "0082c1d8",
   "metadata": {},
   "source": [
    "## 4. Guassian Transformation\n",
    "\n",
    "Some machine learning algorithms like linear and logistic and unlike ensemble algorithms, assume that the features are normally distributed and these some of the algorithms works well on Gaussian Distributed data.\n",
    "- Accuracy\n",
    "- Performance\n",
    "- logarithmic transformation\n",
    "- reciprocal transformation\n",
    "- square root transformation\n",
    "- exponential transformation (more general, you can use any exponent)\n",
    "- boxcox transformation\n",
    "\n",
    "From above Methods we need to find out which method gives the best results in terms of gaussian transformation i.e. the method that gives us Normal distribution is selected but we need to check out for every one of them."
   ]
  },
  {
   "cell_type": "code",
   "execution_count": 23,
   "id": "c5de647e",
   "metadata": {},
   "outputs": [
    {
     "data": {
      "text/html": [
       "<div>\n",
       "<style scoped>\n",
       "    .dataframe tbody tr th:only-of-type {\n",
       "        vertical-align: middle;\n",
       "    }\n",
       "\n",
       "    .dataframe tbody tr th {\n",
       "        vertical-align: top;\n",
       "    }\n",
       "\n",
       "    .dataframe thead th {\n",
       "        text-align: right;\n",
       "    }\n",
       "</style>\n",
       "<table border=\"1\" class=\"dataframe\">\n",
       "  <thead>\n",
       "    <tr style=\"text-align: right;\">\n",
       "      <th></th>\n",
       "      <th>Survived</th>\n",
       "      <th>Pclass</th>\n",
       "      <th>Age</th>\n",
       "      <th>Fare</th>\n",
       "    </tr>\n",
       "  </thead>\n",
       "  <tbody>\n",
       "    <tr>\n",
       "      <th>0</th>\n",
       "      <td>0</td>\n",
       "      <td>3</td>\n",
       "      <td>22.0</td>\n",
       "      <td>7.2500</td>\n",
       "    </tr>\n",
       "    <tr>\n",
       "      <th>1</th>\n",
       "      <td>1</td>\n",
       "      <td>1</td>\n",
       "      <td>38.0</td>\n",
       "      <td>71.2833</td>\n",
       "    </tr>\n",
       "    <tr>\n",
       "      <th>2</th>\n",
       "      <td>1</td>\n",
       "      <td>3</td>\n",
       "      <td>26.0</td>\n",
       "      <td>7.9250</td>\n",
       "    </tr>\n",
       "  </tbody>\n",
       "</table>\n",
       "</div>"
      ],
      "text/plain": [
       "   Survived  Pclass   Age     Fare\n",
       "0         0       3  22.0   7.2500\n",
       "1         1       1  38.0  71.2833\n",
       "2         1       3  26.0   7.9250"
      ]
     },
     "execution_count": 23,
     "metadata": {},
     "output_type": "execute_result"
    }
   ],
   "source": [
    "df.head(3)"
   ]
  },
  {
   "cell_type": "markdown",
   "id": "b9192eff",
   "metadata": {},
   "source": [
    "Q-Q plot is used to see the Normal Distribution or not\n",
    "\n",
    "It is given with the help of **scipy.stats** module and probplot() method with `dist='norm'` which gives the plot such that if datapoints are in straight line it is assummed as Normally distributed."
   ]
  },
  {
   "cell_type": "code",
   "execution_count": 39,
   "id": "2544079d",
   "metadata": {},
   "outputs": [
    {
     "data": {
      "image/png": "[encoded data removed]",
      "text/plain": [
       "<Figure size 720x432 with 2 Axes>"
      ]
     },
     "metadata": {
      "needs_background": "light"
     },
     "output_type": "display_data"
    }
   ],
   "source": [
    "import scipy.stats as stat\n",
    "import pylab \n",
    "\n",
    "def plot_data(df,feature):\n",
    "    \n",
    "    plt.figure(figsize=(10,6))\n",
    "    plt.subplot(1,2,1)\n",
    "    df[feature].hist()\n",
    "    \n",
    "    plt.subplot(1,2,2)\n",
    "    stat.probplot(df[feature],dist='norm',plot=pylab)\n",
    "    plt.show()\n",
    "    \n",
    "plot_data(df, \"Age\")"
   ]
  },
  {
   "cell_type": "markdown",
   "id": "aee61fef",
   "metadata": {},
   "source": [
    "### 1. Logarithmic Transformation"
   ]
  },
  {
   "cell_type": "code",
   "execution_count": 28,
   "id": "166364d6",
   "metadata": {},
   "outputs": [
    {
     "data": {
      "image/png": "[encoded data removed]",
      "text/plain": [
       "<Figure size 720x432 with 2 Axes>"
      ]
     },
     "metadata": {
      "needs_background": "light"
     },
     "output_type": "display_data"
    }
   ],
   "source": [
    "df['Age_log'] = np.log(df['Age'])\n",
    "\n",
    "plot_data(df, 'Age_log')"
   ]
  },
  {
   "cell_type": "markdown",
   "id": "2fd723ee",
   "metadata": {},
   "source": [
    "### 2. Reciprocal Trnasformation"
   ]
  },
  {
   "cell_type": "code",
   "execution_count": 30,
   "id": "b7405b80",
   "metadata": {},
   "outputs": [
    {
     "data": {
      "image/png": "[encoded data removed]",
      "text/plain": [
       "<Figure size 720x432 with 2 Axes>"
      ]
     },
     "metadata": {
      "needs_background": "light"
     },
     "output_type": "display_data"
    }
   ],
   "source": [
    "df['Age_reciprocal'] = 1/df.Age\n",
    "\n",
    "plot_data(df,'Age_reciprocal')"
   ]
  },
  {
   "cell_type": "markdown",
   "id": "30bd8e31",
   "metadata": {},
   "source": [
    "### 3. Square Root Transformation"
   ]
  },
  {
   "cell_type": "code",
   "execution_count": 40,
   "id": "ab19857f",
   "metadata": {},
   "outputs": [
    {
     "data": {
      "image/png": "[encoded data removed]",
      "text/plain": [
       "<Figure size 720x432 with 2 Axes>"
      ]
     },
     "metadata": {
      "needs_background": "light"
     },
     "output_type": "display_data"
    }
   ],
   "source": [
    "df['Age_sqaure'] = df[\"Age\"]**(1/2)\n",
    "\n",
    "plot_data(df,'Age_sqaure')"
   ]
  },
  {
   "cell_type": "markdown",
   "id": "ce1d41ca",
   "metadata": {},
   "source": [
    "### 4. Exponential Transdormation"
   ]
  },
  {
   "cell_type": "code",
   "execution_count": 34,
   "id": "83fcae71",
   "metadata": {},
   "outputs": [
    {
     "data": {
      "image/png": "[encoded data removed]",
      "text/plain": [
       "<Figure size 720x432 with 2 Axes>"
      ]
     },
     "metadata": {
      "needs_background": "light"
     },
     "output_type": "display_data"
    }
   ],
   "source": [
    "df['Age_exponential'] = df[\"Age\"]**(1/1.2)\n",
    "\n",
    "plot_data(df,'Age_exponential')"
   ]
  },
  {
   "cell_type": "markdown",
   "id": "71336131",
   "metadata": {},
   "source": [
    "### 5. BoxCox Transformation\n",
    "\n",
    "The Box-Cox transformation is defined as: \n",
    "\n",
    "T(Y) $=\\frac{(Y exp(λ)−1)}{λ}$\n",
    "\n",
    "where Y is the response variable and λ is the transformation parameter. λ varies from -5 to 5. In the transformation, all values of λ  are considered and the optimal value for a given variable is selected."
   ]
  },
  {
   "cell_type": "code",
   "execution_count": 36,
   "id": "8b2eb3ee",
   "metadata": {},
   "outputs": [
    {
     "name": "stdout",
     "output_type": "stream",
     "text": [
      "0.7964531473656952\n"
     ]
    }
   ],
   "source": [
    "df['Age_Boxcox'], parameters = stat.boxcox(df['Age'])\n",
    "\n",
    "print(parameters)"
   ]
  },
  {
   "cell_type": "code",
   "execution_count": 37,
   "id": "623eb43c",
   "metadata": {},
   "outputs": [
    {
     "data": {
      "image/png": "[encoded data removed]",
      "text/plain": [
       "<Figure size 720x432 with 2 Axes>"
      ]
     },
     "metadata": {
      "needs_background": "light"
     },
     "output_type": "display_data"
    }
   ],
   "source": [
    "plot_data(df,'Age_Boxcox')"
   ]
  },
  {
   "cell_type": "code",
   "execution_count": null,
   "id": "5d43d966",
   "metadata": {},
   "outputs": [],
   "source": []
  }
 ],
 "metadata": {
  "kernelspec": {
   "display_name": "Python 3",
   "language": "python",
   "name": "python3"
  },
  "language_info": {
   "codemirror_mode": {
    "name": "ipython",
    "version": 3
   },
   "file_extension": ".py",
   "mimetype": "text/x-python",
   "name": "python",
   "nbconvert_exporter": "python",
   "pygments_lexer": "ipython3",
   "version": "3.9.5"
  }
 },
 "nbformat": 4,
 "nbformat_minor": 5
}
